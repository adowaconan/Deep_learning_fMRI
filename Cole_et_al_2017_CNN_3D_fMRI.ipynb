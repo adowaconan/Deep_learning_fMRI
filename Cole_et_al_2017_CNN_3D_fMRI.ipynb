{
  "nbformat": 4,
  "nbformat_minor": 0,
  "metadata": {
    "colab": {
      "name": "Cole et al 2017 CNN 3D fMRI.ipynb",
      "version": "0.3.2",
      "provenance": [],
      "include_colab_link": true
    }
  },
  "cells": [
    {
      "cell_type": "markdown",
      "metadata": {
        "id": "view-in-github",
        "colab_type": "text"
      },
      "source": [
        "[View in Colaboratory](https://colab.research.google.com/github/adowaconan/Deep_learning_fMRI/blob/master/Cole_et_al_2017_CNN_3D_fMRI.ipynb)"
      ]
    },
    {
      "metadata": {
        "id": "NF3wIy3TqjiA",
        "colab_type": "text"
      },
      "cell_type": "markdown",
      "source": [
        "1. N = 2001\n",
        "2. CNN predict age using pre-processed and raw T1-weighted MRI data\n",
        "3. sample of [monozygotic](https://www.google.es/search?q=monozygotic&oq=monozygotic&aqs=chrome..69i57&sourceid=chrome&ie=UTF-8) and [dizygotic](https://www.google.es/search?q=dizygotic&oq=dizygotic&aqs=chrome..69i57&sourceid=chrome&ie=UTF-8) female twins, N = 62\n",
        "4. test-related and multi-center reliablity of two samples, N = 20: within-scanner and N = 11: between-scanner\n"
      ]
    },
    {
      "metadata": {
        "id": "aPuwqUX5rgut",
        "colab_type": "text"
      },
      "cell_type": "markdown",
      "source": [
        "1. predict chronological age in healthy individuals using mahcine learning (**Dosenbach et al, 2010; Franke et al, 2010**)\n",
        "2. deep learning offers several practical advantages for high-dimensional prediction tasks, that should enable the learning of both physiologically-related representations and latent relationships (**Plis et al, 2014**)"
      ]
    },
    {
      "metadata": {
        "id": "QMMZzNqeskGL",
        "colab_type": "text"
      },
      "cell_type": "markdown",
      "source": [
        "# Dataset\n",
        "1. T1-weighted MRI scans\n",
        "2. male = 1016, female = 985\n",
        "3. mean age = 36.95 $\\pm$ 18.12, 18-92\n",
        "4. 14 publicly-available sources\n",
        "5. 1.5T or 3T starndard sequences\n",
        "6. heirtability assessment sample, UK Adult Twin Registry, N = 62, all female\n",
        "7. within-scanner reliability sample, days apart between scans\n",
        "8. between-scanner reliability sample, ICL, adcademic medical center amsterdam, days aprt between scans"
      ]
    },
    {
      "metadata": {
        "id": "t1oWNMAzto13",
        "colab_type": "text"
      },
      "cell_type": "markdown",
      "source": [
        "# Preprocessing\n",
        "1. Cole et al, 2017 a, bc\n",
        "2. volumetric maps for use as feature in the anaylis\n",
        "3. Grey matter and white matter images were analyzed together, to generate a whole-brain predicted age, as well as age predictions for each tissue\n",
        "4. SPM12 were used to segment raw T1 images according to tissue classification (grey matter, white matter, r cerebrospinal fluid)\n",
        "5. thorough visual quality control was conducted to ensure accuracy of segmentation and any motion-corrupted images were excluded\n",
        "6. MNI152\n",
        "7. normalization use DARTEL for non-linear registration and resampling included modulation and 4mm smoothing, which was applied independently to images from all the datasets, resulting in normalized maps with voxelwise correspondence for all participants"
      ]
    },
    {
      "metadata": {
        "id": "hIq8UB1Uu9t9",
        "colab_type": "text"
      },
      "cell_type": "markdown",
      "source": [
        "1. 3D convolutions (Ji et al, 2013)\n",
        "2. 3D convolutions for Alzheimer's disease classification (**Panyan and Montana, 2015*; Sarraf and Tofighi, 106**), brain lesion segmentation (**Kamnitsas et al, 2016**), and skull stripping (**Kleesiek et al, 2016**)"
      ]
    },
    {
      "metadata": {
        "id": "q6yoK3R_xBhj",
        "colab_type": "text"
      },
      "cell_type": "markdown",
      "source": [
        "# Model proposed in the paper:"
      ]
    },
    {
      "metadata": {
        "id": "-kT8RlpyqCll",
        "colab_type": "code",
        "colab": {
          "base_uri": "https://localhost:8080/",
          "height": 35
        },
        "outputId": "4db5e06d-ef75-446f-8a0f-9895b67a1ddf"
      },
      "cell_type": "code",
      "source": [
        "import keras\n",
        "from keras import backend as K\n",
        "from keras.models import Sequential,Model\n",
        "from keras import regularizers\n",
        "from keras.layers import Dense, Dropout, Flatten,LeakyReLU,Input\n",
        "from keras.layers import Conv3D, AveragePooling3D,Reshape,Flatten\n",
        "from keras.layers import Conv3DTranspose,Activation\n",
        "from keras.layers import BatchNormalization,MaxPooling3D\n",
        "import numpy as np"
      ],
      "execution_count": 1,
      "outputs": [
        {
          "output_type": "stream",
          "text": [
            "Using TensorFlow backend.\n"
          ],
          "name": "stderr"
        }
      ]
    },
    {
      "metadata": {
        "id": "IYam1QY5xhN9",
        "colab_type": "code",
        "colab": {
          "base_uri": "https://localhost:8080/",
          "height": 1126
        },
        "outputId": "04c01d13-5896-4460-d831-b1dbdce91643"
      },
      "cell_type": "code",
      "source": [
        "inputs = Input(shape=(121,145,121,1),batch_shape=(None,182,218,182,1),name='input',dtype='float32')\n",
        "conv1 = Conv3D(8,kernel_size=(3,3,3),strides=1,activation='relu',name='layer1_1')(inputs)\n",
        "conv1 = Conv3D(8,kernel_size=(3,3,3),strides=1,name='layer1_2')(conv1)\n",
        "conv1 = BatchNormalization(name='layer1_3')(conv1)\n",
        "conv1 = Activation('relu',name='layer1_4')(conv1)\n",
        "conv1 = MaxPooling3D(pool_size=(2,2,2),strides=(2,2,2),name='layer1_5')(conv1)\n",
        "\n",
        "conv2 = Conv3D(16,kernel_size=(3,3,3),strides=1,activation='relu',name='layer2_1')(conv1)\n",
        "conv2 = Conv3D(16,kernel_size=(3,3,3),strides=1,name='layer2_2')(conv2)\n",
        "conv2 = BatchNormalization(name='layer2_3')(conv2)\n",
        "conv2 = Activation('relu',name='layer2_4')(conv2)\n",
        "conv2 = MaxPooling3D(pool_size=(2,2,2),strides=(2,2,2),name='layer2_5')(conv2)\n",
        "\n",
        "conv3 = Conv3D(32,kernel_size=(3,3,3),strides=1,activation='relu',name='layer3_1')(conv2)\n",
        "conv3 = Conv3D(32,kernel_size=(3,3,3),strides=1,name='layer3_2')(conv3)\n",
        "conv3 = BatchNormalization(name='layer3_3')(conv3)\n",
        "conv3 = Activation('relu',name='layer3_4')(conv3)\n",
        "conv3 = MaxPooling3D(pool_size=(2,2,2),strides=(2,2,2),name='layer3_5')(conv3)\n",
        "\n",
        "conv4 = Conv3D(64,kernel_size=(3,3,3),strides=1,activation='relu',name='layer4_1')(conv3)\n",
        "conv4 = Conv3D(64,kernel_size=(3,3,3),strides=1,name='layer4_2')(conv4)\n",
        "conv4 = BatchNormalization(name='layer4_3')(conv4)\n",
        "conv4 = Activation('relu',name='layer4_4')(conv4)\n",
        "conv4 = MaxPooling3D(pool_size=(2,2,2),strides=(2,2,2),name='layer4_5')(conv4)\n",
        "\n",
        "conv5 = Conv3D(128,kernel_size=(3,3,3),strides=1,activation='relu',name='layer5_1')(conv4)\n",
        "conv5 = Conv3D(128,kernel_size=(3,3,3),strides=1,name='layer5_2')(conv5)\n",
        "conv5 = BatchNormalization(name='layer5_3')(conv5)\n",
        "conv5 = Activation('relu',name='layer5_4')(conv5)\n",
        "conv5 = MaxPooling3D(pool_size=(2,2,2),strides=(2,2,2),name='layer5_5')(conv5)\n",
        "\n",
        "conv5 = Flatten(name='flatten')(conv5)\n",
        "dense = Dense(1,activation='relu',name='output')(conv5)\n",
        "model = Model(inputs,dense)\n",
        "model.summary()"
      ],
      "execution_count": 2,
      "outputs": [
        {
          "output_type": "stream",
          "text": [
            "_________________________________________________________________\n",
            "Layer (type)                 Output Shape              Param #   \n",
            "=================================================================\n",
            "input (InputLayer)           (None, 182, 218, 182, 1)  0         \n",
            "_________________________________________________________________\n",
            "layer1_1 (Conv3D)            (None, 180, 216, 180, 8)  224       \n",
            "_________________________________________________________________\n",
            "layer1_2 (Conv3D)            (None, 178, 214, 178, 8)  1736      \n",
            "_________________________________________________________________\n",
            "layer1_3 (BatchNormalization (None, 178, 214, 178, 8)  32        \n",
            "_________________________________________________________________\n",
            "layer1_4 (Activation)        (None, 178, 214, 178, 8)  0         \n",
            "_________________________________________________________________\n",
            "layer1_5 (MaxPooling3D)      (None, 89, 107, 89, 8)    0         \n",
            "_________________________________________________________________\n",
            "layer2_1 (Conv3D)            (None, 87, 105, 87, 16)   3472      \n",
            "_________________________________________________________________\n",
            "layer2_2 (Conv3D)            (None, 85, 103, 85, 16)   6928      \n",
            "_________________________________________________________________\n",
            "layer2_3 (BatchNormalization (None, 85, 103, 85, 16)   64        \n",
            "_________________________________________________________________\n",
            "layer2_4 (Activation)        (None, 85, 103, 85, 16)   0         \n",
            "_________________________________________________________________\n",
            "layer2_5 (MaxPooling3D)      (None, 42, 51, 42, 16)    0         \n",
            "_________________________________________________________________\n",
            "layer3_1 (Conv3D)            (None, 40, 49, 40, 32)    13856     \n",
            "_________________________________________________________________\n",
            "layer3_2 (Conv3D)            (None, 38, 47, 38, 32)    27680     \n",
            "_________________________________________________________________\n",
            "layer3_3 (BatchNormalization (None, 38, 47, 38, 32)    128       \n",
            "_________________________________________________________________\n",
            "layer3_4 (Activation)        (None, 38, 47, 38, 32)    0         \n",
            "_________________________________________________________________\n",
            "layer3_5 (MaxPooling3D)      (None, 19, 23, 19, 32)    0         \n",
            "_________________________________________________________________\n",
            "layer4_1 (Conv3D)            (None, 17, 21, 17, 64)    55360     \n",
            "_________________________________________________________________\n",
            "layer4_2 (Conv3D)            (None, 15, 19, 15, 64)    110656    \n",
            "_________________________________________________________________\n",
            "layer4_3 (BatchNormalization (None, 15, 19, 15, 64)    256       \n",
            "_________________________________________________________________\n",
            "layer4_4 (Activation)        (None, 15, 19, 15, 64)    0         \n",
            "_________________________________________________________________\n",
            "layer4_5 (MaxPooling3D)      (None, 7, 9, 7, 64)       0         \n",
            "_________________________________________________________________\n",
            "layer5_1 (Conv3D)            (None, 5, 7, 5, 128)      221312    \n",
            "_________________________________________________________________\n",
            "layer5_2 (Conv3D)            (None, 3, 5, 3, 128)      442496    \n",
            "_________________________________________________________________\n",
            "layer5_3 (BatchNormalization (None, 3, 5, 3, 128)      512       \n",
            "_________________________________________________________________\n",
            "layer5_4 (Activation)        (None, 3, 5, 3, 128)      0         \n",
            "_________________________________________________________________\n",
            "layer5_5 (MaxPooling3D)      (None, 1, 2, 1, 128)      0         \n",
            "_________________________________________________________________\n",
            "flatten (Flatten)            (None, 256)               0         \n",
            "_________________________________________________________________\n",
            "output (Dense)               (None, 1)                 257       \n",
            "=================================================================\n",
            "Total params: 884,969\n",
            "Trainable params: 884,473\n",
            "Non-trainable params: 496\n",
            "_________________________________________________________________\n"
          ],
          "name": "stdout"
        }
      ]
    },
    {
      "metadata": {
        "id": "kLbZE_umxmsM",
        "colab_type": "text"
      },
      "cell_type": "markdown",
      "source": [
        "# Data augmentation:\n",
        "\n",
        "At the training phase, all datasets were agumented by generating additional artificial training images to **prevent model over-fitting**. The data augmentation strategy consisted of performing translation ($\\pm$ 10 pixels) and rotation ($\\pm$ 40 degrees), and [was found empirically to yield better performance compared to no data augmentation](https://medium.com/stanford-ai-for-healthcare/dont-just-scan-this-deep-learning-techniques-for-mri-52610e9b7a85)\n"
      ]
    },
    {
      "metadata": {
        "id": "a2qbBbj_zrzJ",
        "colab_type": "text"
      },
      "cell_type": "markdown",
      "source": [
        "# Training procedure:\n",
        "\n",
        "## BAHC data\n",
        "1. train-1601, validation-200, and test-200\n",
        "\n",
        "## Heritability analysis\n",
        "1. model pretrained by the BAHC, and transfer to this dataset due to the small sample size (N = 62)\n",
        "2. heritability estimation was performed using [*structural equation modeling*](http://nbviewer.jupyter.org/gist/JohnGriffiths/8478146)\n",
        "3. The importance of invidual variance components is assessed by dropping components sequentially from the set of nested models: (genetic, common envirionmental, unique environmental) -> (genetic and unique) -> (unique) (**Akaike, 1974; Rijsdijk and Sham, 2002**)\n",
        "\n",
        "\n",
        "## Reliability analysis\n",
        "1. model pretrained by the BAHC and transfer to this dataset (N = 20, 11)"
      ]
    },
    {
      "metadata": {
        "id": "kp44RqqXzS4x",
        "colab_type": "code",
        "colab": {}
      },
      "cell_type": "code",
      "source": [
        "import pandas as pd"
      ],
      "execution_count": 0,
      "outputs": []
    },
    {
      "metadata": {
        "id": "xWaC46Pe2Ii0",
        "colab_type": "code",
        "colab": {
          "base_uri": "https://localhost:8080/",
          "height": 295
        },
        "outputId": "7b09738b-aa05-4960-d7c6-8d1fabe6aec1"
      },
      "cell_type": "code",
      "source": [
        "df = \"\"\"Input_data MAE_(years) r R2 RMSE\n",
        "GM 4.16 0.96 0.92 5.31\n",
        "WM 5.14 0.94 0.88 6.54\n",
        "GM+WM 4.34 0.96 0.91 5.67\n",
        "Raw 4.65 0.94 0.88 6.46\n",
        "GM 4.66 0.95 0.89 6.01\n",
        "WM 5.88 0.92 0.84 7.25\n",
        "GM+WM 4.41 0.96 0.91 5.43\n",
        "Raw 11.81 0.57 0.32 15.10\"\"\"\n",
        "df = df.split('\\n')\n",
        "temp = {}\n",
        "for ii,item in enumerate(df[0].split(' ')):\n",
        "    temp[item] = [line.split(' ') [ii] for line in df[1:]]\n",
        "temp = pd.DataFrame(temp)\n",
        "temp['Method'] = np.concatenate([['CNN']*4,['GPR']*4])\n",
        "temp"
      ],
      "execution_count": 18,
      "outputs": [
        {
          "output_type": "execute_result",
          "data": {
            "text/html": [
              "<div>\n",
              "<style scoped>\n",
              "    .dataframe tbody tr th:only-of-type {\n",
              "        vertical-align: middle;\n",
              "    }\n",
              "\n",
              "    .dataframe tbody tr th {\n",
              "        vertical-align: top;\n",
              "    }\n",
              "\n",
              "    .dataframe thead th {\n",
              "        text-align: right;\n",
              "    }\n",
              "</style>\n",
              "<table border=\"1\" class=\"dataframe\">\n",
              "  <thead>\n",
              "    <tr style=\"text-align: right;\">\n",
              "      <th></th>\n",
              "      <th>Input_data</th>\n",
              "      <th>MAE_(years)</th>\n",
              "      <th>R2</th>\n",
              "      <th>RMSE</th>\n",
              "      <th>r</th>\n",
              "      <th>Method</th>\n",
              "    </tr>\n",
              "  </thead>\n",
              "  <tbody>\n",
              "    <tr>\n",
              "      <th>0</th>\n",
              "      <td>GM</td>\n",
              "      <td>4.16</td>\n",
              "      <td>0.92</td>\n",
              "      <td>5.31</td>\n",
              "      <td>0.96</td>\n",
              "      <td>CNN</td>\n",
              "    </tr>\n",
              "    <tr>\n",
              "      <th>1</th>\n",
              "      <td>WM</td>\n",
              "      <td>5.14</td>\n",
              "      <td>0.88</td>\n",
              "      <td>6.54</td>\n",
              "      <td>0.94</td>\n",
              "      <td>CNN</td>\n",
              "    </tr>\n",
              "    <tr>\n",
              "      <th>2</th>\n",
              "      <td>GM+WM</td>\n",
              "      <td>4.34</td>\n",
              "      <td>0.91</td>\n",
              "      <td>5.67</td>\n",
              "      <td>0.96</td>\n",
              "      <td>CNN</td>\n",
              "    </tr>\n",
              "    <tr>\n",
              "      <th>3</th>\n",
              "      <td>Raw</td>\n",
              "      <td>4.65</td>\n",
              "      <td>0.88</td>\n",
              "      <td>6.46</td>\n",
              "      <td>0.94</td>\n",
              "      <td>CNN</td>\n",
              "    </tr>\n",
              "    <tr>\n",
              "      <th>4</th>\n",
              "      <td>GM</td>\n",
              "      <td>4.66</td>\n",
              "      <td>0.89</td>\n",
              "      <td>6.01</td>\n",
              "      <td>0.95</td>\n",
              "      <td>GPR</td>\n",
              "    </tr>\n",
              "    <tr>\n",
              "      <th>5</th>\n",
              "      <td>WM</td>\n",
              "      <td>5.88</td>\n",
              "      <td>0.84</td>\n",
              "      <td>7.25</td>\n",
              "      <td>0.92</td>\n",
              "      <td>GPR</td>\n",
              "    </tr>\n",
              "    <tr>\n",
              "      <th>6</th>\n",
              "      <td>GM+WM</td>\n",
              "      <td>4.41</td>\n",
              "      <td>0.91</td>\n",
              "      <td>5.43</td>\n",
              "      <td>0.96</td>\n",
              "      <td>GPR</td>\n",
              "    </tr>\n",
              "    <tr>\n",
              "      <th>7</th>\n",
              "      <td>Raw</td>\n",
              "      <td>11.81</td>\n",
              "      <td>0.32</td>\n",
              "      <td>15.10</td>\n",
              "      <td>0.57</td>\n",
              "      <td>GPR</td>\n",
              "    </tr>\n",
              "  </tbody>\n",
              "</table>\n",
              "</div>"
            ],
            "text/plain": [
              "  Input_data MAE_(years)    R2   RMSE     r Method\n",
              "0         GM        4.16  0.92   5.31  0.96    CNN\n",
              "1         WM        5.14  0.88   6.54  0.94    CNN\n",
              "2      GM+WM        4.34  0.91   5.67  0.96    CNN\n",
              "3        Raw        4.65  0.88   6.46  0.94    CNN\n",
              "4         GM        4.66  0.89   6.01  0.95    GPR\n",
              "5         WM        5.88  0.84   7.25  0.92    GPR\n",
              "6      GM+WM        4.41  0.91   5.43  0.96    GPR\n",
              "7        Raw       11.81  0.32  15.10  0.57    GPR"
            ]
          },
          "metadata": {
            "tags": []
          },
          "execution_count": 18
        }
      ]
    },
    {
      "metadata": {
        "id": "c0ZZOVC44g-L",
        "colab_type": "text"
      },
      "cell_type": "markdown",
      "source": [
        "# Figure 3\n",
        "# Figure 4 - transfer learning - within\n",
        "# Figure 5 - transfer learning - between"
      ]
    },
    {
      "metadata": {
        "id": "ygX9D-B92KVX",
        "colab_type": "code",
        "colab": {}
      },
      "cell_type": "code",
      "source": [
        ""
      ],
      "execution_count": 0,
      "outputs": []
    }
  ]
}