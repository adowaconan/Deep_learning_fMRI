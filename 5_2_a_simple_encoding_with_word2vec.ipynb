{
  "nbformat": 4,
  "nbformat_minor": 0,
  "metadata": {
    "colab": {
      "name": "5.2. a simple encoding with word2vec.ipynb",
      "version": "0.3.2",
      "provenance": [],
      "collapsed_sections": [],
      "include_colab_link": true
    },
    "kernelspec": {
      "name": "python2",
      "display_name": "Python 2"
    }
  },
  "cells": [
    {
      "cell_type": "markdown",
      "metadata": {
        "id": "view-in-github",
        "colab_type": "text"
      },
      "source": [
        "<a href=\"https://colab.research.google.com/github/adowaconan/Deep_learning_fMRI/blob/master/5_2_a_simple_encoding_with_word2vec.ipynb\" target=\"_parent\"><img src=\"https://colab.research.google.com/assets/colab-badge.svg\" alt=\"Open In Colab\"/></a>"
      ]
    },
    {
      "metadata": {
        "id": "ANw7YGV5OD5o",
        "colab_type": "text"
      },
      "cell_type": "markdown",
      "source": [
        "# Just installing some of the necessary libraries to get the data and process the data"
      ]
    },
    {
      "metadata": {
        "id": "rHsjgJb2MgPv",
        "colab_type": "code",
        "outputId": "474956f1-c344-42bc-f4d2-d78e08ea3729",
        "colab": {
          "base_uri": "https://localhost:8080/",
          "height": 555
        }
      },
      "cell_type": "code",
      "source": [
        "!pip install -U -q PyDrive\n",
        "!pip install tqdm\n",
        "!apt-get install swig\n",
        "!pip install -U pymvpa2\n",
        "!pip install -U seaborn\n",
        "!pip install nilearn\n",
        "\n",
        "# this lets you access to googel drive shared files\n",
        "from pydrive.auth import GoogleAuth\n",
        "from pydrive.drive import GoogleDrive\n",
        "from google.colab import auth\n",
        "from oauth2client.client import GoogleCredentials"
      ],
      "execution_count": 0,
      "outputs": [
        {
          "output_type": "stream",
          "text": [
            "Requirement already satisfied: tqdm in /usr/local/lib/python2.7/dist-packages (4.28.1)\n",
            "Reading package lists... Done\n",
            "Building dependency tree       \n",
            "Reading state information... Done\n",
            "swig is already the newest version (3.0.12-1).\n",
            "0 upgraded, 0 newly installed, 0 to remove and 13 not upgraded.\n",
            "Requirement already up-to-date: pymvpa2 in /usr/local/lib/python2.7/dist-packages (2.6.5)\n",
            "Requirement already satisfied, skipping upgrade: scipy in /usr/local/lib/python2.7/dist-packages (from pymvpa2) (1.1.0)\n",
            "Requirement already satisfied, skipping upgrade: nibabel in /usr/local/lib/python2.7/dist-packages (from pymvpa2) (2.3.3)\n",
            "Requirement already satisfied, skipping upgrade: numpy>=1.8.2 in /usr/local/lib/python2.7/dist-packages (from scipy->pymvpa2) (1.14.6)\n",
            "Requirement already satisfied, skipping upgrade: bz2file; python_version < \"3.0\" in /usr/local/lib/python2.7/dist-packages (from nibabel->pymvpa2) (0.98)\n",
            "Requirement already satisfied, skipping upgrade: six>=1.3 in /usr/local/lib/python2.7/dist-packages (from nibabel->pymvpa2) (1.11.0)\n",
            "Requirement already up-to-date: seaborn in /usr/local/lib/python2.7/dist-packages (0.9.0)\n",
            "Requirement already satisfied, skipping upgrade: pandas>=0.15.2 in /usr/local/lib/python2.7/dist-packages (from seaborn) (0.22.0)\n",
            "Requirement already satisfied, skipping upgrade: scipy>=0.14.0 in /usr/local/lib/python2.7/dist-packages (from seaborn) (1.1.0)\n",
            "Requirement already satisfied, skipping upgrade: matplotlib>=1.4.3 in /usr/local/lib/python2.7/dist-packages (from seaborn) (2.2.3)\n",
            "Requirement already satisfied, skipping upgrade: numpy>=1.9.3 in /usr/local/lib/python2.7/dist-packages (from seaborn) (1.14.6)\n",
            "Requirement already satisfied, skipping upgrade: pytz>=2011k in /usr/local/lib/python2.7/dist-packages (from pandas>=0.15.2->seaborn) (2018.9)\n",
            "Requirement already satisfied, skipping upgrade: python-dateutil in /usr/local/lib/python2.7/dist-packages (from pandas>=0.15.2->seaborn) (2.5.3)\n",
            "Requirement already satisfied, skipping upgrade: cycler>=0.10 in /usr/local/lib/python2.7/dist-packages (from matplotlib>=1.4.3->seaborn) (0.10.0)\n",
            "Requirement already satisfied, skipping upgrade: backports.functools-lru-cache in /usr/local/lib/python2.7/dist-packages (from matplotlib>=1.4.3->seaborn) (1.5)\n",
            "Requirement already satisfied, skipping upgrade: subprocess32 in /usr/local/lib/python2.7/dist-packages (from matplotlib>=1.4.3->seaborn) (3.5.3)\n",
            "Requirement already satisfied, skipping upgrade: kiwisolver>=1.0.1 in /usr/local/lib/python2.7/dist-packages (from matplotlib>=1.4.3->seaborn) (1.0.1)\n",
            "Requirement already satisfied, skipping upgrade: six>=1.10 in /usr/local/lib/python2.7/dist-packages (from matplotlib>=1.4.3->seaborn) (1.11.0)\n",
            "Requirement already satisfied, skipping upgrade: pyparsing!=2.0.4,!=2.1.2,!=2.1.6,>=2.0.1 in /usr/local/lib/python2.7/dist-packages (from matplotlib>=1.4.3->seaborn) (2.3.1)\n",
            "Requirement already satisfied, skipping upgrade: setuptools in /usr/local/lib/python2.7/dist-packages (from kiwisolver>=1.0.1->matplotlib>=1.4.3->seaborn) (40.7.0)\n",
            "Requirement already satisfied: nilearn in /usr/local/lib/python2.7/dist-packages (0.5.0)\n",
            "Requirement already satisfied: nibabel>=2.0.2 in /usr/local/lib/python2.7/dist-packages (from nilearn) (2.3.3)\n",
            "Requirement already satisfied: bz2file; python_version < \"3.0\" in /usr/local/lib/python2.7/dist-packages (from nibabel>=2.0.2->nilearn) (0.98)\n",
            "Requirement already satisfied: numpy>=1.7.1 in /usr/local/lib/python2.7/dist-packages (from nibabel>=2.0.2->nilearn) (1.14.6)\n",
            "Requirement already satisfied: six>=1.3 in /usr/local/lib/python2.7/dist-packages (from nibabel>=2.0.2->nilearn) (1.11.0)\n"
          ],
          "name": "stdout"
        }
      ]
    },
    {
      "metadata": {
        "id": "4Js0klgZOK54",
        "colab_type": "text"
      },
      "cell_type": "markdown",
      "source": [
        "# Copying the word list and the word2vec model from Google Drive to Colab, so it will take some time."
      ]
    },
    {
      "metadata": {
        "id": "2Q5s3nrIN3FZ",
        "colab_type": "code",
        "colab": {}
      },
      "cell_type": "code",
      "source": [
        "# 1. Authenticate and create the PyDrive client.\n",
        "auth.authenticate_user()\n",
        "gauth = GoogleAuth()\n",
        "gauth.credentials = GoogleCredentials.get_application_default()\n",
        "drive = GoogleDrive(gauth)\n",
        "\n",
        "\n",
        "word_list_id = 'https://drive.google.com/open?id=18nfVy-o0GWX-QKEWrKK0EKLLAltpFy4U'.split('id=')[-1]\n",
        "word2vec_model_id = 'https://drive.google.com/open?id=1Dj9aTqHbuknWZC9kQJabqH3NqGXe_PT4'.split('id=')[-1]\n",
        "\n",
        "word_list = drive.CreateFile({'id':word_list_id})\n",
        "word2vec_model_ = drive.CreateFile({'id':word2vec_model_id})\n",
        "\n",
        "word_list.GetContentFile('{}'.format('word.npy'))\n",
        "word2vec_model_.GetContentFile('{}'.format('glove-sbwc.i25.vec'))"
      ],
      "execution_count": 0,
      "outputs": []
    },
    {
      "metadata": {
        "id": "drDbxPrjQ2kd",
        "colab_type": "code",
        "colab": {}
      },
      "cell_type": "code",
      "source": [
        "roi_id = 'https://drive.google.com/open?id=10cAoPizl69QR2RekIKpkdrv9J4_Emcq-'.split('id=')[-1]\n",
        "roi = drive.CreateFile({'id':roi_id})\n",
        "roi.GetContentFile('{}'.format('roi.pkl'))"
      ],
      "execution_count": 0,
      "outputs": []
    },
    {
      "metadata": {
        "id": "PWoQyvY0NPj7",
        "colab_type": "code",
        "colab": {}
      },
      "cell_type": "code",
      "source": [
        "fmri_data_id = 'https://drive.google.com/open?id=1azfJELUXpALhuqk9QjkgQxscjngt8FIK'.split('id=')[-1]\n",
        "mask_id = 'https://drive.google.com/open?id=1chMTgitz5Qb9rEjGN5ZOGLJIMxbnwC8j'.split('id=')[-1]\n",
        "struc_id = 'https://drive.google.com/open?id=1Ctlw4_Qw43K3KEvFDA3NhOaW-nAOBWAd'.split('id=')[-1]\n",
        "functional_id = 'https://drive.google.com/open?id=1dhIqqdovNFsaVVZKJTWEOSqRBBfMlkHR'.split('id=')[-1]\n",
        "\n",
        "fmri_data = drive.CreateFile({'id':fmri_data_id})\n",
        "mask = drive.CreateFile({'id':mask_id})\n",
        "struc = drive.CreateFile({'id':struc_id})\n",
        "functional = drive.CreateFile({'id':functional_id})\n",
        "\n",
        "fmri_data.GetContentFile('{}'.format('filtered_func_data.nii.gz'))\n",
        "mask.GetContentFile('{}'.format('roi_4_bin.nii.gz'))\n",
        "struc.GetContentFile('{}'.format('output.nii'))\n",
        "functional.GetContentFile('{}'.format('example_func.nii.gz'))"
      ],
      "execution_count": 0,
      "outputs": []
    },
    {
      "metadata": {
        "id": "buSM-QDVObIW",
        "colab_type": "text"
      },
      "cell_type": "markdown",
      "source": [
        "# The python libraries we will need to import\n",
        "\n",
        "1. numpy: numerical python\n",
        "2. pandas: table\n",
        "3. tqdm: progress bar\n",
        "4. **gensim**: need for loading word2vec models\n",
        "12. seaborn (better in 0.9.0 version): pretty plotting\n",
        "13. pickle: to load the dataset (PYMVPA format) that is stored in a pickle dump file\n",
        "14. Ridge regression, can be replaced by linear SVM regressor nested with L1 regularizer\n",
        "8. mean_group_sample: Pymvpa averaging function\n",
        "9. seaborn: plotting\n",
        "10. plot_stat_map, plot_glass_brain: nilearn plotting function, MRI visualization\n",
        "11. threshold_img: not important"
      ]
    },
    {
      "metadata": {
        "id": "zt9i6rYmOam_",
        "colab_type": "code",
        "colab": {}
      },
      "cell_type": "code",
      "source": [
        "import numpy as np\n",
        "import pandas as pd\n",
        "from tqdm import tqdm\n",
        "from matplotlib import pyplot as plt\n",
        "from gensim.models.keyedvectors import KeyedVectors # for loading word2vec models\n",
        "from sklearn.preprocessing import StandardScaler\n",
        "from sklearn.metrics import r2_score\n",
        "from sklearn.linear_model import Ridge\n",
        "from mvpa2.mappers.fx import mean_group_sample \n",
        "import seaborn as sns\n",
        "sns.set_style('white')\n",
        "sns.set_context('poster')\n",
        "import pickle\n",
        "from nilearn.plotting import plot_stat_map,plot_glass_brain\n",
        "from nilearn.image import threshold_img\n"
      ],
      "execution_count": 0,
      "outputs": []
    },
    {
      "metadata": {
        "id": "QOucIhX2M_uQ",
        "colab_type": "code",
        "outputId": "1b52702d-d3e1-451f-de68-d3bc97939768",
        "colab": {
          "base_uri": "https://localhost:8080/",
          "height": 34
        }
      },
      "cell_type": "code",
      "source": [
        "# candidate model\n",
        "Glove_from_SBWC = 'glove-sbwc.i25.vec'\n",
        "# load the stimuli table\n",
        "words = np.load('word.npy')\n",
        "print('loading Glove model, and it is going to take some time...')\n",
        "model_glove = KeyedVectors.load_word2vec_format(Glove_from_SBWC)"
      ],
      "execution_count": 0,
      "outputs": [
        {
          "output_type": "stream",
          "text": [
            "loading Glove model, and it is going to take some time...\n"
          ],
          "name": "stdout"
        }
      ]
    },
    {
      "metadata": {
        "id": "8g72KvvbJDNB",
        "colab_type": "text"
      },
      "cell_type": "markdown",
      "source": [
        "# Load the BOLD signal data\n",
        "\n",
        "## Some description of the experiment:\n",
        "\n",
        "1. there were 2 conditions: read and reenact\n",
        "2. In the read condition, subjects were asked to read the words presented on the screen repeatedly\n",
        "3. In the reenact condition, subjects were asked to think about \"features\" that are associated with the words presented\n",
        "4. There were 36 unique words, and they were presented once at each block of scanning. \n",
        "5. There were 4 blocks of scanning\n"
      ]
    },
    {
      "metadata": {
        "id": "zPSRqOFgPmHW",
        "colab_type": "code",
        "colab": {}
      },
      "cell_type": "code",
      "source": [
        "ds = pickle.load(open('roi.pkl','rb'))"
      ],
      "execution_count": 0,
      "outputs": []
    },
    {
      "metadata": {
        "id": "ZBjsGigoJF5S",
        "colab_type": "text"
      },
      "cell_type": "markdown",
      "source": [
        "# Select a condition"
      ]
    },
    {
      "metadata": {
        "id": "K7t_fo8ARUJN",
        "colab_type": "code",
        "colab": {}
      },
      "cell_type": "code",
      "source": [
        "condition = 'read'"
      ],
      "execution_count": 0,
      "outputs": []
    },
    {
      "metadata": {
        "id": "WSZJdGNFRVDA",
        "colab_type": "code",
        "colab": {}
      },
      "cell_type": "code",
      "source": [
        "dataset = ds[ds.sa.context == condition]"
      ],
      "execution_count": 0,
      "outputs": []
    },
    {
      "metadata": {
        "id": "GUBoJOpxKF50",
        "colab_type": "text"
      },
      "cell_type": "markdown",
      "source": [
        "# My helper functions for cross validation partitioning. I don't like to average the training data but to average the testing data. Since we must partitioning the data according to trials and blocks, we must also acknowledge that multiple volumes correspond to the same trial of a given block. These helper functions are for these purpose."
      ]
    },
    {
      "metadata": {
        "id": "e5Bgc2khJCv7",
        "colab_type": "code",
        "colab": {}
      },
      "cell_type": "code",
      "source": [
        "def get_blocks(dataset__,label_map,key_type='labels'):\n",
        "    \"\"\"\n",
        "    # use ids, chunks,and labels to make unique blocks of the pre-average dataset, because I don't want to \n",
        "    # average the dataset until I actually want to, but at the same time, I want to balance the data for \n",
        "    # both the training and test set.\n",
        "    \"\"\"\n",
        "    ids                     = dataset__.sa.id.astype(int)\n",
        "    chunks                  = dataset__.sa.chunks\n",
        "    words                   = dataset__.sa.words\n",
        "    if key_type == 'labels':\n",
        "        try: # in metasema\n",
        "            labels              = np.array([label_map[item] for item in dataset__.sa.targets])[:,-1]\n",
        "        except:# not in metasema\n",
        "            labels              = np.array([label_map[item] for item in dataset__.sa.targets])\n",
        "        \n",
        "    elif key_type == 'words':\n",
        "        labels              = np.array([label_map[item] for item in dataset__.sa.words])\n",
        "    sample_indecies         = np.arange(len(labels))\n",
        "    blocks                  = [np.array([ids[ids             == target],\n",
        "                                         chunks[ids          == target],\n",
        "                                         words[ids           == target],\n",
        "                                         labels[ids          == target],\n",
        "                                         sample_indecies[ids == target]\n",
        "                                         ]) for target in np.unique(ids)]\n",
        "    block_labels            = np.array([np.unique(ll[-2]) for ll in blocks]).ravel()\n",
        "    return blocks,block_labels\n",
        "def customized_partition(dataset__,label_map):\n",
        "    unique_words = np.unique(dataset__.sa.words)\n",
        "    unique_chunks = np.unique(dataset__.sa.chunks)\n",
        "    try: # in metasema\n",
        "        labels              = np.array([label_map[item] for item in dataset__.sa.targets])[:,-1]\n",
        "    except:# not in metasema\n",
        "        labels              = np.array([label_map[item] for item in dataset__.sa.targets])\n",
        "    words = dataset__.sa.words\n",
        "    chunks = dataset__.sa.chunks\n",
        "    blocks,block_labels = get_blocks(dataset__,label_map,key_type='labels')\n",
        "    sample_indecies         = np.arange(len(labels))\n",
        "    test = []\n",
        "    check = []\n",
        "    for n in range(int(1e5)):\n",
        "        random_chunk = np.random.choice(unique_chunks,size=1,replace=False)[0]\n",
        "        working_words = words[chunks == random_chunk]\n",
        "        working_block = [block for block in blocks if (int(np.unique(block[1])[0]) == random_chunk)]\n",
        "        random_word = np.random.choice(working_words,size=1,replace=False)[0]\n",
        "        if random_word not in check:\n",
        "            for block in working_block:\n",
        "                if (np.unique(block[2])[0] == random_word) and (random_word not in check):\n",
        "                    test.append(block[-1].astype(int))\n",
        "                    check.append(block[2][0])\n",
        "#                    print(test,check)\n",
        "                if len(check) == len(unique_words):\n",
        "                    break\n",
        "            if len(check) == len(unique_words):\n",
        "                break\n",
        "        if len(check) == len(unique_words):\n",
        "            break\n",
        "    test = np.concatenate(test,0).flatten()\n",
        "    train = np.array([idx for idx in sample_indecies if (idx not in test)])\n",
        "    return train,test"
      ],
      "execution_count": 0,
      "outputs": []
    },
    {
      "metadata": {
        "id": "tW_c2YnuKzQ1",
        "colab_type": "text"
      },
      "cell_type": "markdown",
      "source": [
        "# Define something before the encoding model"
      ]
    },
    {
      "metadata": {
        "id": "iKwr6cfZRcsJ",
        "colab_type": "code",
        "colab": {}
      },
      "cell_type": "code",
      "source": [
        "label_map               = dict(animal  =[0,1],\n",
        "                               tool    =[1,0])\n",
        "n_splits = 100\n",
        "labels                  = np.array([label_map[item] for item in dataset.targets])\n",
        "alpha = 1e2"
      ],
      "execution_count": 0,
      "outputs": []
    },
    {
      "metadata": {
        "id": "3L_-3WsyWaWi",
        "colab_type": "code",
        "outputId": "d11ec116-a6bf-4283-ca8c-b067cac67ca1",
        "colab": {
          "base_uri": "https://localhost:8080/",
          "height": 89
        }
      },
      "cell_type": "code",
      "source": [
        "used_test = []\n",
        "fold = -1\n",
        "scores = []\n",
        "for _ in tqdm(range(10000)):\n",
        "    #print('paritioning ...')\n",
        "    idx_train,idx_test = customized_partition(dataset,label_map,)\n",
        "    if any([np.sum(idx_test) == np.sum(item) for item in used_test]):\n",
        "        pass\n",
        "    else:\n",
        "        fold += 1\n",
        "        used_test.append(idx_test)\n",
        "        #print('done')\n",
        "        \n",
        "        clf = Ridge(alpha = alpha,         # L1 penalty, higher means more weights are constrained to zero\n",
        "                    normalize = False,         # normalize the batch features\n",
        "                    max_iter = -1,            # train until it converts\n",
        "                    random_state = 12345          # random seeding\n",
        "                    )\n",
        "        tr = dataset[idx_train]\n",
        "        te = dataset[idx_test].get_mapped(mean_group_sample(['chunks', 'id'],order = 'occurrence'))\n",
        "        \n",
        "        ########################### This is the part we line up the stimulus feature (word2vec) to the BOLD signals at each trial###########################################\n",
        "        stimuli = np.array([model_glove[word.lower()] for word in tr.sa.words])\n",
        "        fmri_data = tr.samples.astype('float32')\n",
        "        ####################################################################################################################################################################\n",
        "        \n",
        "        clf.fit(stimuli,fmri_data)\n",
        "        preds = clf.predict(np.array([model_glove[word.lower()] for word in te.sa.words]))\n",
        "        scores.append(r2_score(te.samples.astype('float32'),\n",
        "                               preds,\n",
        "                               multioutput = 'raw_values'))\n",
        "    if (len(used_test) == n_splits) or (fold == n_splits):\n",
        "        break"
      ],
      "execution_count": 0,
      "outputs": [
        {
          "output_type": "stream",
          "text": [
            "\r  0%|          | 0/10000 [00:00<?, ?it/s]"
          ],
          "name": "stderr"
        },
        {
          "output_type": "stream",
          "text": [
            "WARNING: There were no samples for combination {'chunks': 0, 'id': '109'}. It might be a sign of a disbalanced dataset <Dataset: 219x2927@float32, <sa: categories,chunks,context,id,targets,time_coords,time_indices,trials,words>, <fa: voxel_indices>, <a: imgaffine,imghdr,imgtype,mapper,voxel_dim,voxel_eldim>>.\n",
            " * Please note: warnings are printed only once, but underlying problem might occur many times *\n"
          ],
          "name": "stdout"
        },
        {
          "output_type": "stream",
          "text": [
            "  1%|          | 99/10000 [00:53<1:23:17,  1.98it/s]"
          ],
          "name": "stderr"
        }
      ]
    },
    {
      "metadata": {
        "id": "qV1jy4cuLHCO",
        "colab_type": "code",
        "colab": {}
      },
      "cell_type": "code",
      "source": [
        "scores = np.array(scores)"
      ],
      "execution_count": 0,
      "outputs": []
    },
    {
      "metadata": {
        "id": "4dfNObsxMDfO",
        "colab_type": "code",
        "outputId": "f0ebd9e8-c23a-4d37-ce19-503117c203b7",
        "colab": {
          "base_uri": "https://localhost:8080/",
          "height": 34
        }
      },
      "cell_type": "code",
      "source": [
        "print('mean variance = ',np.mean(scores[scores>0]),'positive values = ',np.sum(scores.mean(0)>0))"
      ],
      "execution_count": 0,
      "outputs": [
        {
          "output_type": "stream",
          "text": [
            "('mean variance = ', 0.05685189038658059, 'positive values = ', 2)\n"
          ],
          "name": "stdout"
        }
      ]
    },
    {
      "metadata": {
        "id": "sHh5LrfdK7Be",
        "colab_type": "text"
      },
      "cell_type": "markdown",
      "source": [
        "# Load the structure scan and function scan for visualization"
      ]
    },
    {
      "metadata": {
        "id": "6YNaPJ8YMS7G",
        "colab_type": "code",
        "colab": {}
      },
      "cell_type": "code",
      "source": [
        "fmri_dir = 'filtered_func_data.nii.gz'\n",
        "mask_dir = 'roi_4_bin.nii.gz'\n",
        "struc_dir = 'output.nii'\n",
        "functional_dir = 'example_func.nii.gz'"
      ],
      "execution_count": 0,
      "outputs": []
    },
    {
      "metadata": {
        "id": "_qNMZpqXQRo2",
        "colab_type": "code",
        "outputId": "f53a1e4e-3c9e-403b-f802-baa611903540",
        "colab": {
          "base_uri": "https://localhost:8080/",
          "height": 191
        }
      },
      "cell_type": "code",
      "source": [
        "from nilearn.input_data import MultiNiftiMasker\n",
        "\n",
        "masker = MultiNiftiMasker(mask_img=mask_dir, detrend=True,\n",
        "                          standardize=True)\n",
        "masker.fit()"
      ],
      "execution_count": 0,
      "outputs": [
        {
          "output_type": "stream",
          "text": [
            "/usr/local/lib/python2.7/dist-packages/ipykernel_launcher.py:1: DeprecationWarning: Python2 support is deprecated and will be removed in a future release. Consider switching to Python3.\n",
            "  \"\"\"Entry point for launching an IPython kernel.\n",
            "/usr/local/lib/python2.7/dist-packages/nilearn/_utils/cache_mixin.py:301: DeprecationWarning: The 'cachedir' attribute has been deprecated in version 0.12 and will be removed in version 0.14.\n",
            "Use os.path.join(memory.location, 'joblib') attribute instead.\n",
            "  if self.memory_level == 0 and self.memory.cachedir is not None:\n"
          ],
          "name": "stderr"
        },
        {
          "output_type": "execute_result",
          "data": {
            "text/plain": [
              "MultiNiftiMasker(detrend=True, dtype=None, high_pass=None, low_pass=None,\n",
              "         mask_args=None, mask_img='roi_4_bin.nii.gz',\n",
              "         mask_strategy='background', memory=Memory(location=None),\n",
              "         memory_level=0, n_jobs=1, smoothing_fwhm=None, standardize=True,\n",
              "         t_r=None, target_affine=None, target_shape=None, verbose=0)"
            ]
          },
          "metadata": {
            "tags": []
          },
          "execution_count": 16
        }
      ]
    },
    {
      "metadata": {
        "id": "-DVd4gt0QJQ7",
        "colab_type": "code",
        "colab": {}
      },
      "cell_type": "code",
      "source": [
        "cut_score = np.mean(scores, axis=0)\n",
        "cut_score[cut_score < 0] = 0\n",
        "\n",
        "# bring the scores into the shape of the background brain\n",
        "score_map_img = masker.inverse_transform(cut_score)\n",
        "\n",
        "thresholded_score_map_img = threshold_img(score_map_img, threshold=1e-6)"
      ],
      "execution_count": 0,
      "outputs": []
    },
    {
      "metadata": {
        "id": "7p_T5BAaQi1d",
        "colab_type": "code",
        "outputId": "f2bb331d-8544-4b2c-aeb4-e148d97d2e28",
        "colab": {
          "base_uri": "https://localhost:8080/",
          "height": 1325
        }
      },
      "cell_type": "code",
      "source": [
        "fig,ax = plt.subplots(figsize=(16,6))\n",
        "plot_stat_map(score_map_img, \n",
        "              bg_img=functional_dir,\n",
        "              figure=fig,\n",
        "              axes=ax,\n",
        "              black_bg=True,\n",
        "              colorbar=True,\n",
        "              cmap='coolwarm',\n",
        "              threshold='auto',)"
      ],
      "execution_count": 0,
      "outputs": [
        {
          "output_type": "stream",
          "text": [
            "/usr/local/lib/python2.7/dist-packages/nilearn/plotting/__init__.py:20: UserWarning: \n",
            "This call to matplotlib.use() has no effect because the backend has already\n",
            "been chosen; matplotlib.use() must be called *before* pylab, matplotlib.pyplot,\n",
            "or matplotlib.backends is imported for the first time.\n",
            "\n",
            "The backend was *originally* set to 'module://ipykernel.pylab.backend_inline' by the following code:\n",
            "  File \"/usr/lib/python2.7/runpy.py\", line 174, in _run_module_as_main\n",
            "    \"__main__\", fname, loader, pkg_name)\n",
            "  File \"/usr/lib/python2.7/runpy.py\", line 72, in _run_code\n",
            "    exec code in run_globals\n",
            "  File \"/usr/local/lib/python2.7/dist-packages/ipykernel_launcher.py\", line 16, in <module>\n",
            "    app.launch_new_instance()\n",
            "  File \"/usr/local/lib/python2.7/dist-packages/traitlets/config/application.py\", line 657, in launch_instance\n",
            "    app.initialize(argv)\n",
            "  File \"</usr/local/lib/python2.7/dist-packages/decorator.pyc:decorator-gen-121>\", line 2, in initialize\n",
            "  File \"/usr/local/lib/python2.7/dist-packages/traitlets/config/application.py\", line 87, in catch_config_error\n",
            "    return method(app, *args, **kwargs)\n",
            "  File \"/usr/local/lib/python2.7/dist-packages/ipykernel/kernelapp.py\", line 462, in initialize\n",
            "    self.init_gui_pylab()\n",
            "  File \"/usr/local/lib/python2.7/dist-packages/ipykernel/kernelapp.py\", line 403, in init_gui_pylab\n",
            "    InteractiveShellApp.init_gui_pylab(self)\n",
            "  File \"/usr/local/lib/python2.7/dist-packages/IPython/core/shellapp.py\", line 213, in init_gui_pylab\n",
            "    r = enable(key)\n",
            "  File \"/usr/local/lib/python2.7/dist-packages/IPython/core/interactiveshell.py\", line 2950, in enable_matplotlib\n",
            "    pt.activate_matplotlib(backend)\n",
            "  File \"/usr/local/lib/python2.7/dist-packages/IPython/core/pylabtools.py\", line 309, in activate_matplotlib\n",
            "    matplotlib.pyplot.switch_backend(backend)\n",
            "  File \"/usr/local/lib/python2.7/dist-packages/matplotlib/pyplot.py\", line 231, in switch_backend\n",
            "    matplotlib.use(newbackend, warn=False, force=True)\n",
            "  File \"/usr/local/lib/python2.7/dist-packages/matplotlib/__init__.py\", line 1422, in use\n",
            "    reload(sys.modules['matplotlib.backends'])\n",
            "  File \"/usr/local/lib/python2.7/dist-packages/matplotlib/backends/__init__.py\", line 16, in <module>\n",
            "    line for line in traceback.format_stack()\n",
            "\n",
            "\n",
            "  matplotlib.use('Agg')\n",
            "/usr/local/lib/python2.7/dist-packages/sklearn/utils/graph.py:16: RuntimeWarning: numpy.dtype size changed, may indicate binary incompatibility. Expected 96, got 88\n",
            "  from .graph_shortest_path import graph_shortest_path  # noqa\n",
            "/usr/local/lib/python2.7/dist-packages/sklearn/decomposition/online_lda.py:28: RuntimeWarning: numpy.dtype size changed, may indicate binary incompatibility. Expected 96, got 88\n",
            "  from ._online_lda import (mean_change, _dirichlet_expectation_1d,\n",
            "/usr/local/lib/python2.7/dist-packages/sklearn/isotonic.py:11: RuntimeWarning: numpy.dtype size changed, may indicate binary incompatibility. Expected 96, got 88\n",
            "  from ._isotonic import _inplace_contiguous_isotonic_regression, _make_unique\n",
            "/usr/local/lib/python2.7/dist-packages/sklearn/manifold/t_sne.py:26: RuntimeWarning: numpy.dtype size changed, may indicate binary incompatibility. Expected 96, got 88\n",
            "  from . import _utils\n",
            "/usr/local/lib/python2.7/dist-packages/sklearn/tree/tree.py:40: RuntimeWarning: numpy.dtype size changed, may indicate binary incompatibility. Expected 96, got 88\n",
            "  from ._criterion import Criterion\n",
            "/usr/local/lib/python2.7/dist-packages/sklearn/cluster/k_means_.py:37: RuntimeWarning: numpy.dtype size changed, may indicate binary incompatibility. Expected 96, got 88\n",
            "  from . import _k_means\n",
            "/usr/local/lib/python2.7/dist-packages/sklearn/cluster/hierarchical.py:23: RuntimeWarning: numpy.dtype size changed, may indicate binary incompatibility. Expected 96, got 88\n",
            "  from . import _hierarchical\n",
            "/usr/local/lib/python2.7/dist-packages/sklearn/cluster/dbscan_.py:20: RuntimeWarning: numpy.dtype size changed, may indicate binary incompatibility. Expected 96, got 88\n",
            "  from ._dbscan_inner import dbscan_inner\n"
          ],
          "name": "stderr"
        },
        {
          "output_type": "execute_result",
          "data": {
            "text/plain": [
              "<nilearn.plotting.displays.OrthoSlicer at 0x7f422a87a550>"
            ]
          },
          "metadata": {
            "tags": []
          },
          "execution_count": 18
        },
        {
          "output_type": "display_data",
          "data": {
            "image/png": "[encoded data removed]",
            "text/plain": [
              "<Figure size 1152x432 with 5 Axes>"
            ]
          },
          "metadata": {
            "tags": []
          }
        }
      ]
    },
    {
      "metadata": {
        "id": "qcWKDxFaSBai",
        "colab_type": "code",
        "outputId": "127306bf-f127-4ee3-9365-65cc620cc379",
        "colab": {
          "base_uri": "https://localhost:8080/",
          "height": 422
        }
      },
      "cell_type": "code",
      "source": [
        "fig,ax = plt.subplots(figsize=(16,6))\n",
        "plot_stat_map(thresholded_score_map_img, \n",
        "              bg_img=functional_dir,\n",
        "              figure=fig,\n",
        "              axes=ax,\n",
        "              black_bg=True,\n",
        "              colorbar=True,\n",
        "              cmap='coolwarm',\n",
        "              threshold='auto',)"
      ],
      "execution_count": 0,
      "outputs": [
        {
          "output_type": "execute_result",
          "data": {
            "text/plain": [
              "<nilearn.plotting.displays.OrthoSlicer at 0x7f422cde0b50>"
            ]
          },
          "metadata": {
            "tags": []
          },
          "execution_count": 19
        },
        {
          "output_type": "display_data",
          "data": {
            "image/png": "[encoded data removed]",
            "text/plain": [
              "<Figure size 1152x432 with 5 Axes>"
            ]
          },
          "metadata": {
            "tags": []
          }
        }
      ]
    },
    {
      "metadata": {
        "id": "kwZOobNodDDV",
        "colab_type": "code",
        "colab": {}
      },
      "cell_type": "code",
      "source": [
        ""
      ],
      "execution_count": 0,
      "outputs": []
    }
  ]
}