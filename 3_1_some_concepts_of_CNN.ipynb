{
  "nbformat": 4,
  "nbformat_minor": 0,
  "metadata": {
    "colab": {
      "name": "3.1 some concepts of CNN.ipynb",
      "version": "0.3.2",
      "provenance": [],
      "include_colab_link": true
    }
  },
  "cells": [
    {
      "cell_type": "markdown",
      "metadata": {
        "id": "view-in-github",
        "colab_type": "text"
      },
      "source": [
        "[View in Colaboratory](https://colab.research.google.com/github/adowaconan/Deep_learning_fMRI/blob/master/3_1_some_concepts_of_CNN.ipynb)"
      ]
    },
    {
      "metadata": {
        "id": "y8i19qa25XjQ",
        "colab_type": "text"
      },
      "cell_type": "markdown",
      "source": [
        "# Reference\n",
        "## [How HBO’s Silicon Valley built “Not Hotdog” with mobile TensorFlow, Keras & React Native](https://medium.com/@timanglade/how-hbos-silicon-valley-built-not-hotdog-with-mobile-tensorflow-keras-react-native-ef03260747f3)\n",
        "## [Convolutional Neural Networks - Basics](https://mlnotebook.github.io/post/CNN1/)\n",
        "## [reference within reference](https://github.com/rcmalli/keras-squeezenet/blob/master/examples/example_keras_squeezenet.ipynb)\n",
        "## [Understanding Activation Functions in Neural Networks](https://medium.com/the-theory-of-everything/understanding-activation-functions-in-neural-networks-9491262884e0)\n",
        "## [Activation Functions: Neural Networks](https://towardsdatascience.com/activation-functions-neural-networks-1cbd9f8d91d6)"
      ]
    },
    {
      "metadata": {
        "id": "NQJK-EKs6Gqm",
        "colab_type": "text"
      },
      "cell_type": "markdown",
      "source": [
        "# Kernels\n",
        "\n",
        "## come matrices that could only do addition and multiplication\n",
        "## feature extracters\n",
        "## filter\n"
      ]
    },
    {
      "metadata": {
        "id": "1gBUGSql5R6J",
        "colab_type": "code",
        "colab": {
          "base_uri": "https://localhost:8080/",
          "height": 565
        },
        "outputId": "6aead287-93e0-4dda-f77f-0f75a53bded7"
      },
      "cell_type": "code",
      "source": [
        "from IPython.display import Image\n",
        "Image(url='https://mlnotebook.github.io/img/CNN/convSobel.gif')"
      ],
      "execution_count": 1,
      "outputs": [
        {
          "output_type": "execute_result",
          "data": {
            "text/html": [
              "<img src=\"https://mlnotebook.github.io/img/CNN/convSobel.gif\"/>"
            ],
            "text/plain": [
              "<IPython.core.display.Image object>"
            ]
          },
          "metadata": {
            "tags": []
          },
          "execution_count": 1
        }
      ]
    },
    {
      "metadata": {
        "id": "WmNI0XRS7Dx-",
        "colab_type": "text"
      },
      "cell_type": "markdown",
      "source": [
        "The kernel shown above is a kernel with size (3,3) and stride of (1,1), no activation introduced"
      ]
    },
    {
      "metadata": {
        "id": "QDsVMM8y7bHU",
        "colab_type": "text"
      },
      "cell_type": "markdown",
      "source": [
        "# Activation functions"
      ]
    },
    {
      "metadata": {
        "id": "xIORKisU7L0x",
        "colab_type": "code",
        "colab": {
          "base_uri": "https://localhost:8080/",
          "height": 283
        },
        "outputId": "454383df-a33a-47f3-f02d-cd9967d74560"
      },
      "cell_type": "code",
      "source": [
        "print('step function')\n",
        "Image(url='https://cdn-images-1.medium.com/max/800/0*8U8_aa9hMsGmzMY2.')"
      ],
      "execution_count": 2,
      "outputs": [
        {
          "output_type": "stream",
          "text": [
            "step function\n"
          ],
          "name": "stdout"
        },
        {
          "output_type": "execute_result",
          "data": {
            "text/html": [
              "<img src=\"https://cdn-images-1.medium.com/max/800/0*8U8_aa9hMsGmzMY2.\"/>"
            ],
            "text/plain": [
              "<IPython.core.display.Image object>"
            ]
          },
          "metadata": {
            "tags": []
          },
          "execution_count": 2
        }
      ]
    },
    {
      "metadata": {
        "id": "f2bo5u5z7ubI",
        "colab_type": "code",
        "colab": {
          "base_uri": "https://localhost:8080/",
          "height": 579
        },
        "outputId": "79d8a26f-e3e3-46b2-c86c-65b5768cc377"
      },
      "cell_type": "code",
      "source": [
        "print('linear function')\n",
        "Image(url='https://cdn-images-1.medium.com/max/800/1*tldIgyDQWqm-sMwP7m3Bww.png')"
      ],
      "execution_count": 3,
      "outputs": [
        {
          "output_type": "stream",
          "text": [
            "linear function\n"
          ],
          "name": "stdout"
        },
        {
          "output_type": "execute_result",
          "data": {
            "text/html": [
              "<img src=\"https://cdn-images-1.medium.com/max/800/1*tldIgyDQWqm-sMwP7m3Bww.png\"/>"
            ],
            "text/plain": [
              "<IPython.core.display.Image object>"
            ]
          },
          "metadata": {
            "tags": []
          },
          "execution_count": 3
        }
      ]
    },
    {
      "metadata": {
        "id": "VYxpyeOH7-l3",
        "colab_type": "code",
        "colab": {
          "base_uri": "https://localhost:8080/",
          "height": 439
        },
        "outputId": "b3739a81-a36d-4f9b-8e88-0b749e9f65c2"
      },
      "cell_type": "code",
      "source": [
        "print('sigmoid function')\n",
        "Image(url='https://cdn-images-1.medium.com/max/800/0*5euYS7InCmDP08ir.')"
      ],
      "execution_count": 4,
      "outputs": [
        {
          "output_type": "stream",
          "text": [
            "sigmoid function\n"
          ],
          "name": "stdout"
        },
        {
          "output_type": "execute_result",
          "data": {
            "text/html": [
              "<img src=\"https://cdn-images-1.medium.com/max/800/0*5euYS7InCmDP08ir.\"/>"
            ],
            "text/plain": [
              "<IPython.core.display.Image object>"
            ]
          },
          "metadata": {
            "tags": []
          },
          "execution_count": 4
        }
      ]
    },
    {
      "metadata": {
        "id": "H40z5Cl08ITi",
        "colab_type": "code",
        "colab": {
          "base_uri": "https://localhost:8080/",
          "height": 339
        },
        "outputId": "6c1a23dd-0bb1-4c7a-a06d-7176c71f55d7"
      },
      "cell_type": "code",
      "source": [
        "print('tanh function')\n",
        "Image(url='https://cdn-images-1.medium.com/max/800/0*YJ27cYXmTAUFZc9Z.')"
      ],
      "execution_count": 5,
      "outputs": [
        {
          "output_type": "stream",
          "text": [
            "tanh function\n"
          ],
          "name": "stdout"
        },
        {
          "output_type": "execute_result",
          "data": {
            "text/html": [
              "<img src=\"https://cdn-images-1.medium.com/max/800/0*YJ27cYXmTAUFZc9Z.\"/>"
            ],
            "text/plain": [
              "<IPython.core.display.Image object>"
            ]
          },
          "metadata": {
            "tags": []
          },
          "execution_count": 5
        }
      ]
    },
    {
      "metadata": {
        "id": "CZajbaV08QxF",
        "colab_type": "code",
        "colab": {
          "base_uri": "https://localhost:8080/",
          "height": 249
        },
        "outputId": "0335c086-6e4d-4785-bcaa-a1270120fe91"
      },
      "cell_type": "code",
      "source": [
        "print('ratified function')\n",
        "Image(url='https://cdn-images-1.medium.com/max/800/0*vGJq0cIuvTB9dvf5.')"
      ],
      "execution_count": 6,
      "outputs": [
        {
          "output_type": "stream",
          "text": [
            "ratified function\n"
          ],
          "name": "stdout"
        },
        {
          "output_type": "execute_result",
          "data": {
            "text/html": [
              "<img src=\"https://cdn-images-1.medium.com/max/800/0*vGJq0cIuvTB9dvf5.\"/>"
            ],
            "text/plain": [
              "<IPython.core.display.Image object>"
            ]
          },
          "metadata": {
            "tags": []
          },
          "execution_count": 6
        }
      ]
    },
    {
      "metadata": {
        "id": "0NFU15-v8YxS",
        "colab_type": "code",
        "colab": {
          "base_uri": "https://localhost:8080/",
          "height": 312
        },
        "outputId": "39d810d4-4127-4a63-dfdb-6221d325bccb"
      },
      "cell_type": "code",
      "source": [
        "print('Leaky ratified function')\n",
        "Image(url='https://cdn-images-1.medium.com/max/800/1*A_Bzn0CjUgOXtPCJKnKLqA.jpeg')"
      ],
      "execution_count": 7,
      "outputs": [
        {
          "output_type": "stream",
          "text": [
            "Leaky ratified function\n"
          ],
          "name": "stdout"
        },
        {
          "output_type": "execute_result",
          "data": {
            "text/html": [
              "<img src=\"https://cdn-images-1.medium.com/max/800/1*A_Bzn0CjUgOXtPCJKnKLqA.jpeg\"/>"
            ],
            "text/plain": [
              "<IPython.core.display.Image object>"
            ]
          },
          "metadata": {
            "tags": []
          },
          "execution_count": 7
        }
      ]
    },
    {
      "metadata": {
        "id": "Lp2jbJnx9hNe",
        "colab_type": "text"
      },
      "cell_type": "markdown",
      "source": [
        "Softmax is different..."
      ]
    },
    {
      "metadata": {
        "id": "IPcMF5Zc9krm",
        "colab_type": "text"
      },
      "cell_type": "markdown",
      "source": [
        "# pooling\n",
        "## [What is wrong with Convolutional neural networks ?](https://towardsdatascience.com/what-is-wrong-with-convolutional-neural-networks-75c2ba8fbd6f)"
      ]
    },
    {
      "metadata": {
        "id": "VhW7suRy8pvu",
        "colab_type": "code",
        "colab": {
          "base_uri": "https://localhost:8080/",
          "height": 502
        },
        "outputId": "7e8dcb3e-01b3-4cea-cfdc-76dbd8a3af31"
      },
      "cell_type": "code",
      "source": [
        "Image(url='https://cdn-images-1.medium.com/max/800/1*lbUtgiANqLoO1GFSc9pHTg.gif')"
      ],
      "execution_count": 8,
      "outputs": [
        {
          "output_type": "execute_result",
          "data": {
            "text/html": [
              "<img src=\"https://cdn-images-1.medium.com/max/800/1*lbUtgiANqLoO1GFSc9pHTg.gif\"/>"
            ],
            "text/plain": [
              "<IPython.core.display.Image object>"
            ]
          },
          "metadata": {
            "tags": []
          },
          "execution_count": 8
        }
      ]
    },
    {
      "metadata": {
        "id": "FIGnb5g997CK",
        "colab_type": "code",
        "colab": {
          "base_uri": "https://localhost:8080/",
          "height": 446
        },
        "outputId": "b42def16-6108-42d6-cd22-74c796ff930e"
      },
      "cell_type": "code",
      "source": [
        "Image(url='https://cdn-images-1.medium.com/max/800/1*wsf4tsOH77T1lpylPUIhbA.png')"
      ],
      "execution_count": 9,
      "outputs": [
        {
          "output_type": "execute_result",
          "data": {
            "text/html": [
              "<img src=\"https://cdn-images-1.medium.com/max/800/1*wsf4tsOH77T1lpylPUIhbA.png\"/>"
            ],
            "text/plain": [
              "<IPython.core.display.Image object>"
            ]
          },
          "metadata": {
            "tags": []
          },
          "execution_count": 9
        }
      ]
    },
    {
      "metadata": {
        "id": "n_Cv6jwe-gmi",
        "colab_type": "text"
      },
      "cell_type": "markdown",
      "source": [
        "# Dropout\n",
        "## [Dropout in (Deep) Machine learning](https://medium.com/@amarbudhiraja/https-medium-com-amarbudhiraja-learning-less-to-learn-better-dropout-in-deep-machine-learning-74334da4bfc5)"
      ]
    },
    {
      "metadata": {
        "id": "K-aZSEyp-H9R",
        "colab_type": "code",
        "colab": {
          "base_uri": "https://localhost:8080/",
          "height": 439
        },
        "outputId": "dcd2dafc-c2b1-4386-c54b-460aaa0c9866"
      },
      "cell_type": "code",
      "source": [
        "Image(url='https://cdn-images-1.medium.com/max/800/1*iWQzxhVlvadk6VAJjsgXgg.png')"
      ],
      "execution_count": 10,
      "outputs": [
        {
          "output_type": "execute_result",
          "data": {
            "text/html": [
              "<img src=\"https://cdn-images-1.medium.com/max/800/1*iWQzxhVlvadk6VAJjsgXgg.png\"/>"
            ],
            "text/plain": [
              "<IPython.core.display.Image object>"
            ]
          },
          "metadata": {
            "tags": []
          },
          "execution_count": 10
        }
      ]
    },
    {
      "metadata": {
        "id": "qkCipBqQ-pvi",
        "colab_type": "text"
      },
      "cell_type": "markdown",
      "source": [
        "# Batch Normalization\n",
        "## [Batch normalization in Neural Networks](https://towardsdatascience.com/batch-normalization-in-neural-networks-1ac91516821c)\n",
        "## [Batch Normalization: Accelerating Deep Network Training by Reducing Internal Covariate Shift](https://arxiv.org/abs/1502.03167)\n",
        "\n",
        "### Batch normalization reduces the amount by what the hidden unit values shift around (covariance shift)\n",
        "### batch normalization allows each layer of a network to learn by itself a little bit more independently of other layers\n",
        "\n",
        "#### VGG nets don't have batch normalization layers, but they still work well. They don't have one is because batch normalization was not invented yet.\n",
        "#### Pytorch VGG net is trained with batch normalization while tensorflow VGG net is not."
      ]
    },
    {
      "metadata": {
        "id": "17kmISam__R5",
        "colab_type": "text"
      },
      "cell_type": "markdown",
      "source": [
        "# Here is the reason we don't want to train proposed deep neural nets from scratch\n",
        "# Let's compare these models:\n",
        "1. Xception net\n",
        "2. VGG19\n",
        "3. ResNet50\n",
        "4. Inception V3\n",
        "5. InceptionResNet V2\n",
        "6. MobileNet\n",
        "7. DenseNet\n",
        "8. NASNet"
      ]
    },
    {
      "metadata": {
        "id": "PTf8AQzp-mQk",
        "colab_type": "code",
        "colab": {
          "base_uri": "https://localhost:8080/",
          "height": 363
        },
        "outputId": "aa9c4ab8-bf87-40b6-aeab-ba991007fd59"
      },
      "cell_type": "code",
      "source": [
        "import pandas as pd\n",
        "df = {}\n",
        "df['Model']=['Xception','VGG16','VGG19','ResNet50','InceptionV3','InceptionResNetV2',\n",
        "            'MobileNet','DenseNet121','DenseNet169','DenseNet201']\n",
        "df['Size']=[88,528,549,99,92,215,17,33,57,80]\n",
        "df['Top1 Accuracy']=[.79,.715,.727,.759,.788,.804,.665,.745,.759,.77]\n",
        "df['Top5 Accuracy']=[.945,.901,.910,.929,.944,.953,.871,.918,.928,.933]\n",
        "df['Parameters']=[22910480,138357544,143667240,25636712,23851784,55873736,4253864,\n",
        "                 8062504,14307880,20242984]\n",
        "df['Depth']=[126,23,26,168,159,572,88,121,169,201]\n",
        "df['min input size']=['150x150','48x48','48x48','197x197','139x139','139x139',\n",
        "                     '32x32','?','?','?']\n",
        "df = pd.DataFrame(df)\n",
        "df[['Model','Size','Top1 Accuracy','Top5 Accuracy','Parameters','Depth','min input size']]"
      ],
      "execution_count": 17,
      "outputs": [
        {
          "output_type": "execute_result",
          "data": {
            "text/html": [
              "<div>\n",
              "<style scoped>\n",
              "    .dataframe tbody tr th:only-of-type {\n",
              "        vertical-align: middle;\n",
              "    }\n",
              "\n",
              "    .dataframe tbody tr th {\n",
              "        vertical-align: top;\n",
              "    }\n",
              "\n",
              "    .dataframe thead th {\n",
              "        text-align: right;\n",
              "    }\n",
              "</style>\n",
              "<table border=\"1\" class=\"dataframe\">\n",
              "  <thead>\n",
              "    <tr style=\"text-align: right;\">\n",
              "      <th></th>\n",
              "      <th>Model</th>\n",
              "      <th>Size</th>\n",
              "      <th>Top1 Accuracy</th>\n",
              "      <th>Top5 Accuracy</th>\n",
              "      <th>Parameters</th>\n",
              "      <th>Depth</th>\n",
              "      <th>min input size</th>\n",
              "    </tr>\n",
              "  </thead>\n",
              "  <tbody>\n",
              "    <tr>\n",
              "      <th>0</th>\n",
              "      <td>Xception</td>\n",
              "      <td>88</td>\n",
              "      <td>0.790</td>\n",
              "      <td>0.945</td>\n",
              "      <td>22910480</td>\n",
              "      <td>126</td>\n",
              "      <td>150x150</td>\n",
              "    </tr>\n",
              "    <tr>\n",
              "      <th>1</th>\n",
              "      <td>VGG16</td>\n",
              "      <td>528</td>\n",
              "      <td>0.715</td>\n",
              "      <td>0.901</td>\n",
              "      <td>138357544</td>\n",
              "      <td>23</td>\n",
              "      <td>48x48</td>\n",
              "    </tr>\n",
              "    <tr>\n",
              "      <th>2</th>\n",
              "      <td>VGG19</td>\n",
              "      <td>549</td>\n",
              "      <td>0.727</td>\n",
              "      <td>0.910</td>\n",
              "      <td>143667240</td>\n",
              "      <td>26</td>\n",
              "      <td>48x48</td>\n",
              "    </tr>\n",
              "    <tr>\n",
              "      <th>3</th>\n",
              "      <td>ResNet50</td>\n",
              "      <td>99</td>\n",
              "      <td>0.759</td>\n",
              "      <td>0.929</td>\n",
              "      <td>25636712</td>\n",
              "      <td>168</td>\n",
              "      <td>197x197</td>\n",
              "    </tr>\n",
              "    <tr>\n",
              "      <th>4</th>\n",
              "      <td>InceptionV3</td>\n",
              "      <td>92</td>\n",
              "      <td>0.788</td>\n",
              "      <td>0.944</td>\n",
              "      <td>23851784</td>\n",
              "      <td>159</td>\n",
              "      <td>139x139</td>\n",
              "    </tr>\n",
              "    <tr>\n",
              "      <th>5</th>\n",
              "      <td>InceptionResNetV2</td>\n",
              "      <td>215</td>\n",
              "      <td>0.804</td>\n",
              "      <td>0.953</td>\n",
              "      <td>55873736</td>\n",
              "      <td>572</td>\n",
              "      <td>139x139</td>\n",
              "    </tr>\n",
              "    <tr>\n",
              "      <th>6</th>\n",
              "      <td>MobileNet</td>\n",
              "      <td>17</td>\n",
              "      <td>0.665</td>\n",
              "      <td>0.871</td>\n",
              "      <td>4253864</td>\n",
              "      <td>88</td>\n",
              "      <td>32x32</td>\n",
              "    </tr>\n",
              "    <tr>\n",
              "      <th>7</th>\n",
              "      <td>DenseNet121</td>\n",
              "      <td>33</td>\n",
              "      <td>0.745</td>\n",
              "      <td>0.918</td>\n",
              "      <td>8062504</td>\n",
              "      <td>121</td>\n",
              "      <td>?</td>\n",
              "    </tr>\n",
              "    <tr>\n",
              "      <th>8</th>\n",
              "      <td>DenseNet169</td>\n",
              "      <td>57</td>\n",
              "      <td>0.759</td>\n",
              "      <td>0.928</td>\n",
              "      <td>14307880</td>\n",
              "      <td>169</td>\n",
              "      <td>?</td>\n",
              "    </tr>\n",
              "    <tr>\n",
              "      <th>9</th>\n",
              "      <td>DenseNet201</td>\n",
              "      <td>80</td>\n",
              "      <td>0.770</td>\n",
              "      <td>0.933</td>\n",
              "      <td>20242984</td>\n",
              "      <td>201</td>\n",
              "      <td>?</td>\n",
              "    </tr>\n",
              "  </tbody>\n",
              "</table>\n",
              "</div>"
            ],
            "text/plain": [
              "               Model  Size  Top1 Accuracy  Top5 Accuracy  Parameters  Depth  \\\n",
              "0           Xception    88          0.790          0.945    22910480    126   \n",
              "1              VGG16   528          0.715          0.901   138357544     23   \n",
              "2              VGG19   549          0.727          0.910   143667240     26   \n",
              "3           ResNet50    99          0.759          0.929    25636712    168   \n",
              "4        InceptionV3    92          0.788          0.944    23851784    159   \n",
              "5  InceptionResNetV2   215          0.804          0.953    55873736    572   \n",
              "6          MobileNet    17          0.665          0.871     4253864     88   \n",
              "7        DenseNet121    33          0.745          0.918     8062504    121   \n",
              "8        DenseNet169    57          0.759          0.928    14307880    169   \n",
              "9        DenseNet201    80          0.770          0.933    20242984    201   \n",
              "\n",
              "  min input size  \n",
              "0        150x150  \n",
              "1          48x48  \n",
              "2          48x48  \n",
              "3        197x197  \n",
              "4        139x139  \n",
              "5        139x139  \n",
              "6          32x32  \n",
              "7              ?  \n",
              "8              ?  \n",
              "9              ?  "
            ]
          },
          "metadata": {
            "tags": []
          },
          "execution_count": 17
        }
      ]
    },
    {
      "metadata": {
        "id": "s6b5ZXvVC-yB",
        "colab_type": "text"
      },
      "cell_type": "markdown",
      "source": [
        "# With trasfer learning, building a model ontop of VGG19, we only need to train 1026 parameters with 128x128x3 (number of featuers = 49152) pixel values of each image"
      ]
    },
    {
      "metadata": {
        "id": "grix4GmHAhwN",
        "colab_type": "code",
        "colab": {
          "base_uri": "https://localhost:8080/",
          "height": 1024
        },
        "outputId": "0b77e0ea-0033-4caf-eb23-2c9d21e195ee"
      },
      "cell_type": "code",
      "source": [
        "from keras.applications import VGG19\n",
        "model_vgg19 = VGG19(include_top=False, # do not include the classifier\n",
        "                    weights='imagenet', # get the pretrained weights\n",
        "                    input_tensor=None, # don't know what this is\n",
        "                    input_shape=(128,128,3), # decide the input shape\n",
        "                    pooling='avg', # use global average for the pooling\n",
        "                    classes=1000)# doesen't matter\n",
        "from keras.models import Model\n",
        "from keras.layers import Dense,Dropout\n",
        "from keras import optimizers,metrics,losses\n",
        "\n",
        "for i,layer in enumerate(model_vgg19.layers[:-2]):\n",
        "    layer.trainable = False\n",
        "\n",
        "Encoder = model_vgg19.output\n",
        "Encoder = Dropout(0.5)(Encoder)\n",
        "output = Dense(2,activation='softmax',)(Encoder)\n",
        "model = Model(model_vgg19.input,output)\n",
        "model.compile(optimizer=optimizers.adam(),\n",
        "              loss=losses.binary_crossentropy,\n",
        "              metrics=['acc'])\n",
        "model.summary()"
      ],
      "execution_count": 18,
      "outputs": [
        {
          "output_type": "stream",
          "text": [
            "Using TensorFlow backend.\n"
          ],
          "name": "stderr"
        },
        {
          "output_type": "stream",
          "text": [
            "_________________________________________________________________\n",
            "Layer (type)                 Output Shape              Param #   \n",
            "=================================================================\n",
            "input_1 (InputLayer)         (None, 128, 128, 3)       0         \n",
            "_________________________________________________________________\n",
            "block1_conv1 (Conv2D)        (None, 128, 128, 64)      1792      \n",
            "_________________________________________________________________\n",
            "block1_conv2 (Conv2D)        (None, 128, 128, 64)      36928     \n",
            "_________________________________________________________________\n",
            "block1_pool (MaxPooling2D)   (None, 64, 64, 64)        0         \n",
            "_________________________________________________________________\n",
            "block2_conv1 (Conv2D)        (None, 64, 64, 128)       73856     \n",
            "_________________________________________________________________\n",
            "block2_conv2 (Conv2D)        (None, 64, 64, 128)       147584    \n",
            "_________________________________________________________________\n",
            "block2_pool (MaxPooling2D)   (None, 32, 32, 128)       0         \n",
            "_________________________________________________________________\n",
            "block3_conv1 (Conv2D)        (None, 32, 32, 256)       295168    \n",
            "_________________________________________________________________\n",
            "block3_conv2 (Conv2D)        (None, 32, 32, 256)       590080    \n",
            "_________________________________________________________________\n",
            "block3_conv3 (Conv2D)        (None, 32, 32, 256)       590080    \n",
            "_________________________________________________________________\n",
            "block3_conv4 (Conv2D)        (None, 32, 32, 256)       590080    \n",
            "_________________________________________________________________\n",
            "block3_pool (MaxPooling2D)   (None, 16, 16, 256)       0         \n",
            "_________________________________________________________________\n",
            "block4_conv1 (Conv2D)        (None, 16, 16, 512)       1180160   \n",
            "_________________________________________________________________\n",
            "block4_conv2 (Conv2D)        (None, 16, 16, 512)       2359808   \n",
            "_________________________________________________________________\n",
            "block4_conv3 (Conv2D)        (None, 16, 16, 512)       2359808   \n",
            "_________________________________________________________________\n",
            "block4_conv4 (Conv2D)        (None, 16, 16, 512)       2359808   \n",
            "_________________________________________________________________\n",
            "block4_pool (MaxPooling2D)   (None, 8, 8, 512)         0         \n",
            "_________________________________________________________________\n",
            "block5_conv1 (Conv2D)        (None, 8, 8, 512)         2359808   \n",
            "_________________________________________________________________\n",
            "block5_conv2 (Conv2D)        (None, 8, 8, 512)         2359808   \n",
            "_________________________________________________________________\n",
            "block5_conv3 (Conv2D)        (None, 8, 8, 512)         2359808   \n",
            "_________________________________________________________________\n",
            "block5_conv4 (Conv2D)        (None, 8, 8, 512)         2359808   \n",
            "_________________________________________________________________\n",
            "block5_pool (MaxPooling2D)   (None, 4, 4, 512)         0         \n",
            "_________________________________________________________________\n",
            "global_average_pooling2d_1 ( (None, 512)               0         \n",
            "_________________________________________________________________\n",
            "dropout_1 (Dropout)          (None, 512)               0         \n",
            "_________________________________________________________________\n",
            "dense_1 (Dense)              (None, 2)                 1026      \n",
            "=================================================================\n",
            "Total params: 20,025,410\n",
            "Trainable params: 1,026\n",
            "Non-trainable params: 20,024,384\n",
            "_________________________________________________________________\n"
          ],
          "name": "stdout"
        }
      ]
    },
    {
      "metadata": {
        "id": "RI52W53MDpN2",
        "colab_type": "text"
      },
      "cell_type": "markdown",
      "source": [
        "# Image argumentation\n",
        "## flip the images\n",
        "## stratch the images\n",
        "## rotate the images\n",
        "## shear the images\n",
        "## take out some pixels\n",
        "## and so on ..."
      ]
    },
    {
      "metadata": {
        "id": "dSebW9q7DKOb",
        "colab_type": "code",
        "colab": {
          "base_uri": "https://localhost:8080/",
          "height": 236
        },
        "outputId": "7220aec0-21dc-485d-eee8-f1c930c1a497"
      },
      "cell_type": "code",
      "source": [
        "Image(url='https://cdn-images-1.medium.com/max/800/1*RVV70qYkWJ1Uw8hvALjV4A.png')"
      ],
      "execution_count": 20,
      "outputs": [
        {
          "output_type": "execute_result",
          "data": {
            "text/html": [
              "<img src=\"https://cdn-images-1.medium.com/max/800/1*RVV70qYkWJ1Uw8hvALjV4A.png\"/>"
            ],
            "text/plain": [
              "<IPython.core.display.Image object>"
            ]
          },
          "metadata": {
            "tags": []
          },
          "execution_count": 20
        }
      ]
    },
    {
      "metadata": {
        "id": "0OYZD7A9D-91",
        "colab_type": "code",
        "colab": {}
      },
      "cell_type": "code",
      "source": [
        ""
      ],
      "execution_count": 0,
      "outputs": []
    }
  ]
}