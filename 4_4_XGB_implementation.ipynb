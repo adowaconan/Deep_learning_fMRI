{
  "nbformat": 4,
  "nbformat_minor": 0,
  "metadata": {
    "colab": {
      "name": "4.4. XGB implementation.ipynb",
      "version": "0.3.2",
      "provenance": [],
      "collapsed_sections": [],
      "include_colab_link": true
    },
    "kernelspec": {
      "name": "python2",
      "display_name": "Python 2"
    },
    "accelerator": "GPU"
  },
  "cells": [
    {
      "cell_type": "markdown",
      "metadata": {
        "id": "view-in-github",
        "colab_type": "text"
      },
      "source": [
        "[View in Colaboratory](https://colab.research.google.com/github/adowaconan/Deep_learning_fMRI/blob/master/4_4_XGB_implementation.ipynb)"
      ]
    },
    {
      "metadata": {
        "id": "isvnwR348yRI",
        "colab_type": "code",
        "colab": {
          "base_uri": "https://localhost:8080/",
          "height": 635
        },
        "outputId": "d79b894c-714f-413d-a2e6-9ac9402cbd72"
      },
      "cell_type": "code",
      "source": [
        "!pip install -U -q PyDrive\n",
        "!pip install tqdm\n",
        "!apt-get install swig\n",
        "!pip install -U pymvpa2\n",
        "!pip install -U seaborn\n",
        "\n",
        "# this lets you access to googel drive shared files\n",
        "from pydrive.auth import GoogleAuth\n",
        "from pydrive.drive import GoogleDrive\n",
        "from google.colab import auth\n",
        "from oauth2client.client import GoogleCredentials\n",
        "\n",
        "# 1. Authenticate and create the PyDrive client.\n",
        "auth.authenticate_user()\n",
        "gauth = GoogleAuth()\n",
        "gauth.credentials = GoogleCredentials.get_application_default()\n",
        "drive = GoogleDrive(gauth)\n",
        "\n",
        "# why not numpy?\n",
        "import numpy as np\n",
        "import zipfile\n",
        "from sklearn.metrics import roc_auc_score\n",
        "\n",
        "\n",
        "from glob import glob # useless\n",
        "from tqdm import tqdm # maybe useful\n",
        "import pickle # very useful\n",
        "from collections import Counter # I'm a counter\n",
        "from mvpa2.mappers.fx import mean_group_sample # pymvpa\n",
        "from mvpa2.generators.partition import NFoldPartitioner # pymvpa\n",
        "from mvpa2.base.node import ChainNode # pymvpa\n",
        "from mvpa2.generators.resampling import Balancer # pymvpa\n",
        "from mvpa2.generators.base import Sifter # pymvpa\n",
        "from mvpa2.mappers.base import Mapper # pymvpa\n",
        "from keras.layers import Dense,Dropout,BatchNormalization\n",
        "from keras.layers import Input, AveragePooling3D,Reshape\n",
        "from keras.layers import Conv2D,Conv2DTranspose\n",
        "from keras.layers import GaussianNoise # add noise to our data\n",
        "from keras.layers import Flatten,Dense,LeakyReLU,Conv3DTranspose\n",
        "from keras.models import Model\n",
        "import keras\n",
        "from keras.callbacks import ModelCheckpoint,TensorBoard\n",
        "from keras import regularizers\n",
        "from sklearn import metrics\n",
        "import pandas as pd\n",
        "import os\n",
        "from sklearn.model_selection import StratifiedKFold\n",
        "\n",
        "import seaborn as sns\n",
        "sns.set_context('poster')\n",
        "sns.set_style('whitegrid')\n",
        "import matplotlib.pyplot as plt\n",
        "\n",
        "from sklearn.preprocessing import MinMaxScaler\n",
        "\n",
        "data_id = 'https://drive.google.com/open?id=1sMQh_8qhCwN7N1yM8mTEBT9m8q7l_0iv'.split('id=')[-1]\n",
        "zip_import = drive.CreateFile({'id':data_id})\n",
        "zip_import.GetContentFile('{}'.format('all_bin.pkl'))"
      ],
      "execution_count": 1,
      "outputs": [
        {
          "output_type": "stream",
          "text": [
            "Requirement already satisfied: tqdm in /usr/local/lib/python2.7/dist-packages (4.25.0)\n",
            "Reading package lists... Done\n",
            "Building dependency tree       \n",
            "Reading state information... Done\n",
            "swig is already the newest version (3.0.10-1.2).\n",
            "0 upgraded, 0 newly installed, 0 to remove and 0 not upgraded.\n",
            "Requirement already up-to-date: pymvpa2 in /usr/local/lib/python2.7/dist-packages (2.6.5)\n",
            "Requirement already satisfied, skipping upgrade: scipy in /usr/local/lib/python2.7/dist-packages (from pymvpa2) (0.19.1)\n",
            "Requirement already satisfied, skipping upgrade: nibabel in /usr/local/lib/python2.7/dist-packages (from pymvpa2) (2.3.0)\n",
            "Requirement already satisfied, skipping upgrade: numpy>=1.8.2 in /usr/local/lib/python2.7/dist-packages (from scipy->pymvpa2) (1.14.5)\n",
            "Collecting seaborn\n",
            "\u001b[?25l  Downloading https://files.pythonhosted.org/packages/7a/bf/04cfcfc9616cedd4b5dd24dfc40395965ea9f50c1db0d3f3e52b050f74a5/seaborn-0.9.0.tar.gz (198kB)\n",
            "\u001b[K    100% |████████████████████████████████| 204kB 21.5MB/s \n",
            "\u001b[?25hRequirement already satisfied, skipping upgrade: numpy>=1.9.3 in /usr/local/lib/python2.7/dist-packages (from seaborn) (1.14.5)\n",
            "Requirement already satisfied, skipping upgrade: scipy>=0.14.0 in /usr/local/lib/python2.7/dist-packages (from seaborn) (0.19.1)\n",
            "Requirement already satisfied, skipping upgrade: pandas>=0.15.2 in /usr/local/lib/python2.7/dist-packages (from seaborn) (0.22.0)\n",
            "Requirement already satisfied, skipping upgrade: matplotlib>=1.4.3 in /usr/local/lib/python2.7/dist-packages (from seaborn) (2.1.2)\n",
            "Requirement already satisfied, skipping upgrade: pytz>=2011k in /usr/local/lib/python2.7/dist-packages (from pandas>=0.15.2->seaborn) (2018.5)\n",
            "Requirement already satisfied, skipping upgrade: python-dateutil in /usr/local/lib/python2.7/dist-packages (from pandas>=0.15.2->seaborn) (2.5.3)\n",
            "Requirement already satisfied, skipping upgrade: cycler>=0.10 in /usr/local/lib/python2.7/dist-packages (from matplotlib>=1.4.3->seaborn) (0.10.0)\n",
            "Requirement already satisfied, skipping upgrade: backports.functools-lru-cache in /usr/local/lib/python2.7/dist-packages (from matplotlib>=1.4.3->seaborn) (1.5)\n",
            "Requirement already satisfied, skipping upgrade: subprocess32 in /usr/local/lib/python2.7/dist-packages (from matplotlib>=1.4.3->seaborn) (3.5.2)\n",
            "Requirement already satisfied, skipping upgrade: six>=1.10 in /usr/local/lib/python2.7/dist-packages (from matplotlib>=1.4.3->seaborn) (1.11.0)\n",
            "Requirement already satisfied, skipping upgrade: pyparsing!=2.0.4,!=2.1.2,!=2.1.6,>=2.0.1 in /usr/local/lib/python2.7/dist-packages (from matplotlib>=1.4.3->seaborn) (2.2.0)\n",
            "Building wheels for collected packages: seaborn\n",
            "  Running setup.py bdist_wheel for seaborn ... \u001b[?25l-\b \bdone\n",
            "\u001b[?25h  Stored in directory: /root/.cache/pip/wheels/fc/1c/74/c8f80a532c06a789599b8659b117ec7d7574cac4a06f7dabfe\n",
            "Successfully built seaborn\n",
            "Installing collected packages: seaborn\n",
            "  Found existing installation: seaborn 0.7.1\n",
            "    Uninstalling seaborn-0.7.1:\n",
            "      Successfully uninstalled seaborn-0.7.1\n",
            "Successfully installed seaborn-0.9.0\n"
          ],
          "name": "stdout"
        },
        {
          "output_type": "stream",
          "text": [
            "Using TensorFlow backend.\n"
          ],
          "name": "stderr"
        }
      ]
    },
    {
      "metadata": {
        "id": "S0ESzur4_PLw",
        "colab_type": "text"
      },
      "cell_type": "markdown",
      "source": [
        "# Read condition\n",
        "\n",
        "## Experiment:\n",
        "\n",
        "### Subjects in the sanner, and were instructed to read the word repeatedly as it was present. The words can be divided into 2 semantic categories: living animals and non-living tools\n",
        "\n",
        "## words:\n",
        "\n",
        "'llave', 'lapiz', 'tijera', 'aguja', 'pinza', 'sierra', 'clavo',\n",
        "'pincel', 'alicate', 'tuerca', 'navaja', 'cepillo', 'taladro',\n",
        "'soplete', 'tornillo', 'cuchara', 'martillo', 'cuchillo', 'tigre',\n",
        "'gallo', 'perro', 'oveja', 'cerdo', 'gorila', 'burro', 'yegua',\n",
        "'ardilla', 'conejo', 'gallina', 'caballo', 'ballena', 'pantera',\n",
        "'camello', 'tortuga', 'elefante', 'canguro'\n",
        "<br />**can you divide them?**"
      ]
    },
    {
      "metadata": {
        "id": "fjXmhHtxAkQU",
        "colab_type": "code",
        "colab": {}
      },
      "cell_type": "code",
      "source": [
        "from IPython.display import Image\n",
        "image_id = 'https://drive.google.com/open?id=1qZfXGiqtQ9g5DJsCtb_Injy_tSCEJ3dG'.split('id=')[-1]\n",
        "image = drive.CreateFile({'id':image_id})\n",
        "image.GetContentFile('{}'.format('words.png'))\n"
      ],
      "execution_count": 0,
      "outputs": []
    },
    {
      "metadata": {
        "id": "7DmbM_p99kUp",
        "colab_type": "code",
        "colab": {}
      },
      "cell_type": "code",
      "source": [
        "dataset_ = pickle.load(open('all_bin.pkl','rb'))\n",
        "dataset = dataset_[dataset_.sa.context == 'read']"
      ],
      "execution_count": 0,
      "outputs": []
    },
    {
      "metadata": {
        "id": "li0Pv-xG-CIZ",
        "colab_type": "code",
        "colab": {
          "base_uri": "https://localhost:8080/",
          "height": 635
        },
        "outputId": "1bd85638-8e35-4188-a614-1ed2e8d3cb13"
      },
      "cell_type": "code",
      "source": [
        "print(dataset.summary())"
      ],
      "execution_count": 4,
      "outputs": [
        {
          "output_type": "stream",
          "text": [
            "Dataset: 1544x16130@float32, <sa: categories,chunks,context,id,targets,time_coords,time_indices,trials,words>, <fa: voxel_indices>, <a: imgaffine,imghdr,imgtype,mapper,voxel_dim,voxel_eldim>\n",
            "stats: mean=8.95748e-10 std=0.993167 var=0.98638 min=-6.82599 max=6.5985\n",
            "\n",
            "Counts of targets in each chunk:\n",
            "  chunks\\targets animal tool\n",
            "                   ---   ---\n",
            "        0          111   111\n",
            "        2          110   111\n",
            "        4          110   110\n",
            "        6          108   115\n",
            "        8          109   109\n",
            "       10          108   110\n",
            "       12          111   111\n",
            "\n",
            "Summary for targets across chunks\n",
            "  targets mean  std min max #chunks\n",
            "  animal   110 1.18 108 111    7\n",
            "   tool    111 1.77 109 115    7\n",
            "\n",
            "Summary for chunks across targets\n",
            "  chunks mean std min max #targets\n",
            "    0     111  0  111 111     2\n",
            "    2     110 0.5 110 111     2\n",
            "    4     110  0  110 110     2\n",
            "    6     112 3.5 108 115     2\n",
            "    8     109  0  109 109     2\n",
            "   10     109  1  108 110     2\n",
            "   12     111  0  111 111     2\n",
            "Sequence statistics for 1544 entries from set ['animal', 'tool']\n",
            "Counter-balance table for orders up to 2:\n",
            "Targets/Order  O1      |   O2      |\n",
            "   animal:    702  65  |  637 130  |\n",
            "    tool:      64 712  |  128 647  |\n",
            "Correlations: min=-0.19 max=0.83 mean=-0.00065 sum(abs)=71\n"
          ],
          "name": "stdout"
        }
      ]
    },
    {
      "metadata": {
        "id": "87KDWiYKBExj",
        "colab_type": "code",
        "colab": {}
      },
      "cell_type": "code",
      "source": [
        "import xgboost as xgb\n"
      ],
      "execution_count": 0,
      "outputs": []
    },
    {
      "metadata": {
        "id": "hDM-CgLo0mWy",
        "colab_type": "text"
      },
      "cell_type": "markdown",
      "source": [
        "[A Gentle Introduction to XGBoost for Applied Machine Learning](https://machinelearningmastery.com/gentle-introduction-xgboost-applied-machine-learning/)\n",
        "\n",
        "\n",
        "https://www.kaggle.com/datacanary/xgboost-example-python"
      ]
    },
    {
      "metadata": {
        "id": "j93ipAfIulf9",
        "colab_type": "code",
        "colab": {}
      },
      "cell_type": "code",
      "source": [
        "from sklearn.svm import SVC\n",
        "from sklearn.preprocessing import MinMaxScaler\n",
        "from sklearn.decomposition import PCA\n",
        "from sklearn.pipeline import make_pipeline\n",
        "from sklearn.model_selection import cross_val_score,StratifiedShuffleSplit\n",
        "from sklearn.metrics import roc_auc_score,roc_curve\n",
        "from sklearn.metrics import (classification_report,\n",
        "                             matthews_corrcoef,\n",
        "                             confusion_matrix,\n",
        "                             f1_score,\n",
        "                             log_loss)\n",
        "\n",
        "# helper funtion\n",
        "def get_blocks_metasema(dataset__,label_map):\n",
        "    \"\"\"\n",
        "    # use ids, chunks,and labels to make unique blocks of the pre-average dataset, because I don't want to \n",
        "    # average the dataset until I actually want to, but at the same time, I want to balance the data for \n",
        "    # both the training and test set.\n",
        "    \n",
        "    Preparation for cross validation functions used in scit-kit learning\n",
        "    \"\"\"\n",
        "    ids                 = dataset__.sa.id.astype(int)\n",
        "    chunks              = dataset__.sa.chunks\n",
        "    labels              = np.array([label_map[item] for item in dataset__.targets])[:,-1]\n",
        "    sample_indecies     = np.arange(len(labels))\n",
        "    blocks              = [np.array([ids[ids             == target],\n",
        "                                     chunks[ids          == target], \n",
        "                                     labels[ids          == target],\n",
        "                                     sample_indecies[ids == target]\n",
        "                                     ]) for target in np.unique(ids)]\n",
        "    block_labels        = np.array([np.unique(ll[-2]) for ll in blocks]).ravel()\n",
        "    return blocks,block_labels\n",
        "def Find_Optimal_Cutoff(target, predicted):\n",
        "    \"\"\" Find the optimal probability cutoff point for a classification model related to event rate\n",
        "    Parameters\n",
        "    ----------\n",
        "    target : Matrix with dependent or target data, where rows are observations\n",
        "\n",
        "    predicted : Matrix with predicted data, where rows are observations\n",
        "\n",
        "    Returns\n",
        "    -------     \n",
        "    list type, with optimal cutoff value\n",
        "\n",
        "    \"\"\"\n",
        "    fpr, tpr, threshold         = roc_curve(target, predicted)\n",
        "    i                           = np.arange(len(tpr)) \n",
        "    roc                         = pd.DataFrame({'tf' : pd.Series(tpr-(1-fpr), index=i), 'threshold' : pd.Series(threshold, index=i)})\n",
        "    roc_t                       = roc.iloc[(roc.tf-0).abs().argsort()[:1]]\n",
        "\n",
        "    return list(roc_t['threshold']) "
      ],
      "execution_count": 0,
      "outputs": []
    },
    {
      "metadata": {
        "id": "KytHcoy7u4Z9",
        "colab_type": "code",
        "colab": {
          "base_uri": "https://localhost:8080/",
          "height": 4296
        },
        "outputId": "7340243e-0bef-467a-cde1-70b08ff1acbf"
      },
      "cell_type": "code",
      "source": [
        "average = True # average the instances before training the baseline model\n",
        "\n",
        "scores = []\n",
        "cfm    = []\n",
        "weight = []\n",
        "label_map = dict(animal  = [0,1],\n",
        "                 tool    = [1,0])\n",
        "blocks, block_labels = get_blocks_metasema(dataset,label_map)\n",
        "cv = StratifiedShuffleSplit(n_splits     = 30,# random partition 30 times, but ideally, we need 100 or more\n",
        "                            test_size    = 0.2, # 20 % as the test data\n",
        "                            random_state = 12345 # for reproducibility purpose\n",
        "                           )\n",
        "for fold, (train,test) in enumerate(cv.split(blocks,block_labels)):\n",
        "    idx_train = np.concatenate([blocks[tr_element][-1] for tr_element in train])\n",
        "    idx_test  = np.concatenate([blocks[te_element][-1] for te_element in test ])\n",
        "    scaler    = MinMaxScaler()\n",
        "    \n",
        "    ##############################################################################\n",
        "    \n",
        "    \n",
        "    # select the training and testing split again to make sure we do the right cv\n",
        "    tr                    = dataset[idx_train]\n",
        "    te                    = dataset[idx_test]\n",
        "    # average the train data for baseline to improve the signal to noise ratio\n",
        "    if average:\n",
        "        tr                = tr.get_mapped(mean_group_sample(['chunks', 'trials'],order = 'occurrence'))\n",
        "    \n",
        "    te                    = te.get_mapped(mean_group_sample(['chunks', 'trials'],order = 'occurrence'))\n",
        "    y_train               = np.array([label_map[item] for item in tr.targets])[:,-1]\n",
        "    # transform the test labels as well\n",
        "    y_test                = np.array([label_map[item] for item in te.targets])[:,-1]\n",
        "    \n",
        "    X_train               = scaler.fit_transform(tr.samples.astype('float32'))\n",
        "    X_test                = scaler.transform(te.samples.astype('float32'))\n",
        "    \n",
        "    bst                   = xgb.XGBClassifier(#max_depth = 7, \n",
        "                                              n_estimators = 1200, \n",
        "                                              learning_rate = 0.05,\n",
        "                                              subsample = 0.9,\n",
        "                                              random_state = 12345,\n",
        "                                              reg_alpha = 1e-4, \n",
        "                                              reg_lambda = 1e-4, \n",
        "                                              booster = 'gbtree',\n",
        "                                              objective = 'binary:logistic')\n",
        "    bst.fit(X_train,y_train)\n",
        "    \n",
        "    \n",
        "    # make the probabilistic prediction\n",
        "    pred_                 = bst.predict_proba(X_test)[:,-1]\n",
        "    # find the optimal cut-off probability in the roc curve\n",
        "    score_baseline1       = roc_auc_score(y_test,pred_)\n",
        "    threshold_            = Find_Optimal_Cutoff(y_test,pred_)[0]\n",
        "    score_baseline2       = matthews_corrcoef(y_test,pred_>threshold_) # MCC: conservative\n",
        "    score_baseline3       = f1_score(y_test,pred_>threshold_) # f1 score, based on precision and recall, biased to positive class\n",
        "    score_baseline4       = log_loss(y_test,bst.predict_proba(X_test))# an unbiased metric, but hard to interpret\n",
        "    tn, fp, fn, tp        = confusion_matrix(y_test,pred_>threshold_).ravel()# unbiased metric, but hard to plot in complex experiments like this with multiple factors\n",
        "    print('fold {}'.format(fold + 1))\n",
        "    print(classification_report(y_test,pred_>threshold_))\n",
        "    scores.append([score_baseline1,score_baseline2,score_baseline3,score_baseline4])\n",
        "    cfm.append(   [tn,fp,fn,tp])"
      ],
      "execution_count": 7,
      "outputs": [
        {
          "output_type": "stream",
          "text": [
            "WARNING: There were no samples for combination {'chunks': 0, 'trials': '16'}. It might be a sign of a disbalanced dataset <Dataset: 1230x16130@float32, <sa: categories,chunks,context,id,targets,time_coords,time_indices,trials,words>, <fa: voxel_indices>, <a: imgaffine,imghdr,imgtype,mapper,voxel_dim,voxel_eldim>>.\n",
            " * Please note: warnings are printed only once, but underlying problem might occur many times *\n",
            "fold 1\n",
            "             precision    recall  f1-score   support\n",
            "\n",
            "          0       0.58      0.58      0.58        26\n",
            "          1       0.56      0.56      0.56        25\n",
            "\n",
            "avg / total       0.57      0.57      0.57        51\n",
            "\n",
            "fold 2\n",
            "             precision    recall  f1-score   support\n",
            "\n",
            "          0       0.56      0.58      0.57        26\n",
            "          1       0.54      0.52      0.53        25\n",
            "\n",
            "avg / total       0.55      0.55      0.55        51\n",
            "\n",
            "fold 3\n",
            "             precision    recall  f1-score   support\n",
            "\n",
            "          0       0.59      0.62      0.60        26\n",
            "          1       0.58      0.56      0.57        25\n",
            "\n",
            "avg / total       0.59      0.59      0.59        51\n",
            "\n",
            "fold 4\n",
            "             precision    recall  f1-score   support\n",
            "\n",
            "          0       0.58      0.58      0.58        26\n",
            "          1       0.56      0.56      0.56        25\n",
            "\n",
            "avg / total       0.57      0.57      0.57        51\n",
            "\n",
            "fold 5\n",
            "             precision    recall  f1-score   support\n",
            "\n",
            "          0       0.46      0.52      0.49        25\n",
            "          1       0.48      0.42      0.45        26\n",
            "\n",
            "avg / total       0.47      0.47      0.47        51\n",
            "\n",
            "fold 6\n",
            "             precision    recall  f1-score   support\n",
            "\n",
            "          0       0.58      0.60      0.59        25\n",
            "          1       0.60      0.58      0.59        26\n",
            "\n",
            "avg / total       0.59      0.59      0.59        51\n",
            "\n",
            "fold 7\n",
            "             precision    recall  f1-score   support\n",
            "\n",
            "          0       0.48      0.50      0.49        26\n",
            "          1       0.46      0.44      0.45        25\n",
            "\n",
            "avg / total       0.47      0.47      0.47        51\n",
            "\n",
            "fold 8\n",
            "             precision    recall  f1-score   support\n",
            "\n",
            "          0       0.62      0.64      0.63        25\n",
            "          1       0.64      0.62      0.63        26\n",
            "\n",
            "avg / total       0.63      0.63      0.63        51\n",
            "\n",
            "fold 9\n",
            "             precision    recall  f1-score   support\n",
            "\n",
            "          0       0.50      0.50      0.50        26\n",
            "          1       0.48      0.48      0.48        25\n",
            "\n",
            "avg / total       0.49      0.49      0.49        51\n",
            "\n",
            "fold 10\n",
            "             precision    recall  f1-score   support\n",
            "\n",
            "          0       0.65      0.68      0.67        25\n",
            "          1       0.68      0.65      0.67        26\n",
            "\n",
            "avg / total       0.67      0.67      0.67        51\n",
            "\n",
            "fold 11\n",
            "             precision    recall  f1-score   support\n",
            "\n",
            "          0       0.52      0.56      0.54        25\n",
            "          1       0.54      0.50      0.52        26\n",
            "\n",
            "avg / total       0.53      0.53      0.53        51\n",
            "\n",
            "fold 12\n",
            "             precision    recall  f1-score   support\n",
            "\n",
            "          0       0.58      0.60      0.59        25\n",
            "          1       0.60      0.58      0.59        26\n",
            "\n",
            "avg / total       0.59      0.59      0.59        51\n",
            "\n",
            "fold 13\n",
            "             precision    recall  f1-score   support\n",
            "\n",
            "          0       0.56      0.56      0.56        25\n",
            "          1       0.58      0.58      0.58        26\n",
            "\n",
            "avg / total       0.57      0.57      0.57        51\n",
            "\n",
            "fold 14\n",
            "             precision    recall  f1-score   support\n",
            "\n",
            "          0       0.56      0.58      0.57        26\n",
            "          1       0.54      0.52      0.53        25\n",
            "\n",
            "avg / total       0.55      0.55      0.55        51\n",
            "\n",
            "fold 15\n",
            "             precision    recall  f1-score   support\n",
            "\n",
            "          0       0.54      0.58      0.56        26\n",
            "          1       0.52      0.48      0.50        25\n",
            "\n",
            "avg / total       0.53      0.53      0.53        51\n",
            "\n",
            "fold 16\n",
            "             precision    recall  f1-score   support\n",
            "\n",
            "          0       0.56      0.58      0.57        26\n",
            "          1       0.54      0.52      0.53        25\n",
            "\n",
            "avg / total       0.55      0.55      0.55        51\n",
            "\n",
            "fold 17\n",
            "             precision    recall  f1-score   support\n",
            "\n",
            "          0       0.59      0.62      0.60        26\n",
            "          1       0.58      0.56      0.57        25\n",
            "\n",
            "avg / total       0.59      0.59      0.59        51\n",
            "\n",
            "fold 18\n",
            "             precision    recall  f1-score   support\n",
            "\n",
            "          0       0.59      0.62      0.60        26\n",
            "          1       0.58      0.56      0.57        25\n",
            "\n",
            "avg / total       0.59      0.59      0.59        51\n",
            "\n",
            "fold 19\n",
            "             precision    recall  f1-score   support\n",
            "\n",
            "          0       0.52      0.56      0.54        25\n",
            "          1       0.54      0.50      0.52        26\n",
            "\n",
            "avg / total       0.53      0.53      0.53        51\n",
            "\n",
            "fold 20\n",
            "             precision    recall  f1-score   support\n",
            "\n",
            "          0       0.69      0.72      0.71        25\n",
            "          1       0.72      0.69      0.71        26\n",
            "\n",
            "avg / total       0.71      0.71      0.71        51\n",
            "\n",
            "fold 21\n",
            "             precision    recall  f1-score   support\n",
            "\n",
            "          0       0.65      0.65      0.65        26\n",
            "          1       0.64      0.64      0.64        25\n",
            "\n",
            "avg / total       0.65      0.65      0.65        51\n",
            "\n",
            "fold 22\n",
            "             precision    recall  f1-score   support\n",
            "\n",
            "          0       0.50      0.54      0.52        26\n",
            "          1       0.48      0.44      0.46        25\n",
            "\n",
            "avg / total       0.49      0.49      0.49        51\n",
            "\n",
            "fold 23\n",
            "             precision    recall  f1-score   support\n",
            "\n",
            "          0       0.62      0.62      0.62        26\n",
            "          1       0.60      0.60      0.60        25\n",
            "\n",
            "avg / total       0.61      0.61      0.61        51\n",
            "\n",
            "fold 24\n",
            "             precision    recall  f1-score   support\n",
            "\n",
            "          0       0.52      0.50      0.51        26\n",
            "          1       0.50      0.52      0.51        25\n",
            "\n",
            "avg / total       0.51      0.51      0.51        51\n",
            "\n",
            "fold 25\n",
            "             precision    recall  f1-score   support\n",
            "\n",
            "          0       0.61      0.65      0.63        26\n",
            "          1       0.61      0.56      0.58        25\n",
            "\n",
            "avg / total       0.61      0.61      0.61        51\n",
            "\n",
            "fold 26\n",
            "             precision    recall  f1-score   support\n",
            "\n",
            "          0       0.68      0.73      0.70        26\n",
            "          1       0.70      0.64      0.67        25\n",
            "\n",
            "avg / total       0.69      0.69      0.69        51\n",
            "\n",
            "fold 27\n",
            "             precision    recall  f1-score   support\n",
            "\n",
            "          0       0.65      0.65      0.65        26\n",
            "          1       0.64      0.64      0.64        25\n",
            "\n",
            "avg / total       0.65      0.65      0.65        51\n",
            "\n",
            "fold 28\n",
            "             precision    recall  f1-score   support\n",
            "\n",
            "          0       0.65      0.65      0.65        26\n",
            "          1       0.64      0.64      0.64        25\n",
            "\n",
            "avg / total       0.65      0.65      0.65        51\n",
            "\n",
            "fold 29\n",
            "             precision    recall  f1-score   support\n",
            "\n",
            "          0       0.52      0.50      0.51        26\n",
            "          1       0.50      0.52      0.51        25\n",
            "\n",
            "avg / total       0.51      0.51      0.51        51\n",
            "\n",
            "fold 30\n",
            "             precision    recall  f1-score   support\n",
            "\n",
            "          0       0.61      0.65      0.63        26\n",
            "          1       0.61      0.56      0.58        25\n",
            "\n",
            "avg / total       0.61      0.61      0.61        51\n",
            "\n"
          ],
          "name": "stdout"
        }
      ]
    },
    {
      "metadata": {
        "id": "SgHTeQ9cxThQ",
        "colab_type": "code",
        "colab": {}
      },
      "cell_type": "code",
      "source": [
        "scores = np.array(scores)\n",
        "cfm    = np.array(cfm)"
      ],
      "execution_count": 0,
      "outputs": []
    },
    {
      "metadata": {
        "id": "pRr3YYi10S2c",
        "colab_type": "code",
        "colab": {
          "base_uri": "https://localhost:8080/",
          "height": 52
        },
        "outputId": "f85c22bc-b800-4bd5-ffcd-15600cce9e9e"
      },
      "cell_type": "code",
      "source": [
        "print('ROC AUC score = {:.3f} +/- {:.3f}\\nf1 score = {:.3f} +/- {:.3f}'.format(\n",
        "        scores.mean(0)[0],scores.std(0)[0],scores.mean(0)[-2],scores.std(0)[-2]\n",
        "        ))"
      ],
      "execution_count": 9,
      "outputs": [
        {
          "output_type": "stream",
          "text": [
            "ROC AUC score = 0.603 +/- 0.060\n",
            "f1 score = 0.564 +/- 0.065\n"
          ],
          "name": "stdout"
        }
      ]
    },
    {
      "metadata": {
        "id": "lsRCsI4z0UTp",
        "colab_type": "code",
        "colab": {}
      },
      "cell_type": "code",
      "source": [
        "cm = cfm.mean(0).reshape(2,2)\n",
        "cm = cm / cm.sum(axis=1)[:,np.newaxis]\n",
        "cm = pd.DataFrame(cm,columns=['tool','animal'],index=['tool','animal'])"
      ],
      "execution_count": 0,
      "outputs": []
    },
    {
      "metadata": {
        "id": "7Mr9TdvM0VuW",
        "colab_type": "code",
        "colab": {
          "base_uri": "https://localhost:8080/",
          "height": 675
        },
        "outputId": "5b2baac4-8779-4c2d-97b3-48cb82d0a747"
      },
      "cell_type": "code",
      "source": [
        "fig, ax = plt.subplots(figsize=(8,8))\n",
        "sns.heatmap(cm,ax=ax,vmin=0.4,vmax=0.65)\n",
        "ax.set(ylabel = 'True', xlabel = 'Predicted',title = 'Extreem Boosting')"
      ],
      "execution_count": 11,
      "outputs": [
        {
          "output_type": "stream",
          "text": [
            "/usr/local/lib/python2.7/dist-packages/seaborn/matrix.py:143: DeprecationWarning: elementwise == comparison failed; this will raise an error in the future.\n",
            "  self.xticks = \"auto\"\n",
            "/usr/local/lib/python2.7/dist-packages/seaborn/matrix.py:151: DeprecationWarning: elementwise == comparison failed; this will raise an error in the future.\n",
            "  self.yticklabels = []\n"
          ],
          "name": "stderr"
        },
        {
          "output_type": "execute_result",
          "data": {
            "text/plain": [
              "[Text(41.8,0.5,u'True'),\n",
              " Text(0.5,41.8,u'Predicted'),\n",
              " Text(0.5,1,u'Extreem Boosting')]"
            ]
          },
          "metadata": {
            "tags": []
          },
          "execution_count": 11
        },
        {
          "output_type": "display_data",
          "data": {
            "image/png": "[encoded data removed]",
            "text/plain": [
              "<matplotlib.figure.Figure at 0x7f23bfc671d0>"
            ]
          },
          "metadata": {
            "tags": []
          }
        }
      ]
    },
    {
      "metadata": {
        "id": "8osshDVW0ZPf",
        "colab_type": "code",
        "colab": {
          "base_uri": "https://localhost:8080/",
          "height": 123
        },
        "outputId": "85c57b44-f1bf-4f33-c1ff-a9760220007c"
      },
      "cell_type": "code",
      "source": [
        "bst                   = xgb.XGBClassifier(max_depth = 7, \n",
        "                                              n_estimators = 200, \n",
        "                                              learning_rate = 0.05,\n",
        "                                              subsample = 0.9,\n",
        "                                              random_state = 12345,\n",
        "                                              reg_alpha = 1e-4, \n",
        "                                              reg_lambda = 1e-4, \n",
        "                                              booster = 'gbtree',\n",
        "                                              objective = 'binary:logistic')\n",
        "full_data = MinMaxScaler().fit_transform(dataset.samples.astype('float32'))\n",
        "full_labels = np.array([label_map[item] for item in dataset.sa.targets])[:,-1]\n",
        "bst.fit(full_data,full_labels)"
      ],
      "execution_count": 12,
      "outputs": [
        {
          "output_type": "execute_result",
          "data": {
            "text/plain": [
              "XGBClassifier(base_score=0.5, booster='gbtree', colsample_bylevel=1,\n",
              "       colsample_bytree=1, gamma=0, learning_rate=0.05, max_delta_step=0,\n",
              "       max_depth=7, min_child_weight=1, missing=None, n_estimators=200,\n",
              "       n_jobs=1, nthread=None, objective='binary:logistic',\n",
              "       random_state=12345, reg_alpha=0.0001, reg_lambda=0.0001,\n",
              "       scale_pos_weight=1, seed=None, silent=True, subsample=0.9)"
            ]
          },
          "metadata": {
            "tags": []
          },
          "execution_count": 12
        }
      ]
    },
    {
      "metadata": {
        "id": "iuIm3QLIoKJ6",
        "colab_type": "code",
        "colab": {}
      },
      "cell_type": "code",
      "source": [
        "feature_importance_norm = (bst.feature_importances_ - bst.feature_importances_.mean()) / bst.feature_importances_.std()"
      ],
      "execution_count": 0,
      "outputs": []
    },
    {
      "metadata": {
        "id": "FW3EqiqD03Mg",
        "colab_type": "code",
        "colab": {
          "base_uri": "https://localhost:8080/",
          "height": 574
        },
        "outputId": "25826a21-3e65-4a27-d87c-20b4cf52e542"
      },
      "cell_type": "code",
      "source": [
        "plt.plot(feature_importance_norm)\n",
        "plt.xlabel('Voxel Indices')\n",
        "plt.ylabel('Importance')"
      ],
      "execution_count": 14,
      "outputs": [
        {
          "output_type": "execute_result",
          "data": {
            "text/plain": [
              "Text(0,0.5,u'Importance')"
            ]
          },
          "metadata": {
            "tags": []
          },
          "execution_count": 14
        },
        {
          "output_type": "display_data",
          "data": {
            "image/png": "[encoded data removed]",
            "text/plain": [
              "<matplotlib.figure.Figure at 0x7f23bfcb6550>"
            ]
          },
          "metadata": {
            "tags": []
          }
        }
      ]
    },
    {
      "metadata": {
        "id": "VTjrNvia1D97",
        "colab_type": "code",
        "colab": {
          "base_uri": "https://localhost:8080/",
          "height": 90
        },
        "outputId": "7adc9fb1-8398-4f3d-9737-690b6cf7ef00"
      },
      "cell_type": "code",
      "source": [
        "bst.score(full_data,full_labels)"
      ],
      "execution_count": 15,
      "outputs": [
        {
          "output_type": "stream",
          "text": [
            "/usr/local/lib/python2.7/dist-packages/sklearn/preprocessing/label.py:151: DeprecationWarning: The truth value of an empty array is ambiguous. Returning False, but in future this will result in an error. Use `array.size > 0` to check that an array is not empty.\n",
            "  if diff:\n"
          ],
          "name": "stderr"
        },
        {
          "output_type": "execute_result",
          "data": {
            "text/plain": [
              "1.0"
            ]
          },
          "metadata": {
            "tags": []
          },
          "execution_count": 15
        }
      ]
    },
    {
      "metadata": {
        "id": "RXi7C_FZ1XNV",
        "colab_type": "code",
        "colab": {}
      },
      "cell_type": "code",
      "source": [
        ""
      ],
      "execution_count": 0,
      "outputs": []
    }
  ]
}