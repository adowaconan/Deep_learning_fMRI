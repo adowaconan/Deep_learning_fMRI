{
 "cells": [
  {
   "cell_type": "markdown",
   "metadata": {
    "colab_type": "text",
    "id": "view-in-github",
    "nbpresent": {
     "id": "55bf9994-102a-47fa-9e80-1b3fe0ef895a"
    },
    "slideshow": {
     "slide_type": "notes"
    }
   },
   "source": [
    "[View in Colaboratory](https://colab.research.google.com/github/adowaconan/Deep_learning_fMRI/blob/master/1_perceptron.ipynb)"
   ]
  },
  {
   "cell_type": "code",
   "execution_count": 1,
   "metadata": {
    "colab": {
     "base_uri": "https://localhost:8080/",
     "height": 494
    },
    "colab_type": "code",
    "id": "ARNWyMwDOWIk",
    "nbpresent": {
     "id": "61e7b085-cde5-435e-8b56-0ef019a97cb5"
    },
    "outputId": "8bc430dc-b281-4a86-8ff5-7d46f3c1fa97",
    "slideshow": {
     "slide_type": "slide"
    }
   },
   "outputs": [
    {
     "data": {
      "text/html": [
       "<img src=\"https://qph.ec.quoracdn.net/main-qimg-a75b416f299b0d3cf9ce916f414c0e63\"/>"
      ],
      "text/plain": [
       "<IPython.core.display.Image object>"
      ]
     },
     "execution_count": 1,
     "metadata": {
      "tags": []
     },
     "output_type": "execute_result"
    }
   ],
   "source": [
    "from IPython.display import Image\n",
    "from IPython.core.display import HTML \n",
    "Image(url='https://qph.ec.quoracdn.net/main-qimg-a75b416f299b0d3cf9ce916f414c0e63')"
   ]
  },
  {
   "cell_type": "markdown",
   "metadata": {
    "colab_type": "text",
    "id": "DOlOu5J99Mcs",
    "nbpresent": {
     "id": "79e9e3ea-a9c5-4091-a6b1-4273978fa38e"
    },
    "slideshow": {
     "slide_type": "slide"
    }
   },
   "source": [
    "# some basic formula used in the figure above"
   ]
  },
  {
   "cell_type": "code",
   "execution_count": 0,
   "metadata": {
    "colab": {},
    "colab_type": "code",
    "id": "uTNQ6ISeMm_W",
    "nbpresent": {
     "id": "89bd503b-28de-4ef2-8fe8-b533f0a479c5"
    },
    "slideshow": {
     "slide_type": "subslide"
    }
   },
   "outputs": [],
   "source": [
    "def activation(weight_i, x_i,bias):\n",
    "    return sum(weight_i * x_i )+bias\n",
    "def update_weight(w,learning_rate,expected,predicted,x):\n",
    "    return w + learning_rate * (expected - predicted)*x\n",
    "def predict(row,weights):\n",
    "    activation = weights[0]\n",
    "    for ii in range(len(row)-1):\n",
    "        activation += weights[ii+1]*row[ii]\n",
    "    return 1.0 if activation >= 0.0 else 0.0"
   ]
  },
  {
   "cell_type": "code",
   "execution_count": 4,
   "metadata": {
    "colab": {
     "base_uri": "https://localhost:8080/",
     "height": 439
    },
    "colab_type": "code",
    "id": "cEt5ZSoUNihC",
    "nbpresent": {
     "id": "f4ddf0b0-e2bc-4d24-bc02-5540b4f3d0d2"
    },
    "outputId": "dec0603b-e0ab-4eae-e25d-528c79056616",
    "slideshow": {
     "slide_type": "slide"
    }
   },
   "outputs": [
    {
     "name": "stdout",
     "output_type": "stream",
     "text": [
      "Expected=0, Predicted=0\n",
      "Expected=0, Predicted=0\n",
      "Expected=0, Predicted=0\n",
      "Expected=0, Predicted=0\n",
      "Expected=0, Predicted=0\n",
      "Expected=1, Predicted=1\n",
      "Expected=1, Predicted=1\n",
      "Expected=1, Predicted=1\n",
      "Expected=1, Predicted=1\n",
      "Expected=1, Predicted=1\n"
     ]
    },
    {
     "data": {
      "image/png": "[encoded data removed]",
      "text/plain": [
       "<matplotlib.figure.Figure at 0x7f2e0bab9210>"
      ]
     },
     "metadata": {
      "tags": []
     },
     "output_type": "display_data"
    }
   ],
   "source": [
    "import matplotlib.pyplot as plt\n",
    "import numpy as np\n",
    "%matplotlib inline\n",
    "# test predictions\n",
    "dataset = np.array([[2.7810836,2.550537003,0],\n",
    "\t[1.465489372,2.362125076,0],\n",
    "\t[3.396561688,4.400293529,0],\n",
    "\t[1.38807019,1.850220317,0],\n",
    "\t[3.06407232,3.005305973,0],\n",
    "\t[7.627531214,2.759262235,1],\n",
    "\t[5.332441248,2.088626775,1],\n",
    "\t[6.922596716,1.77106367,1],\n",
    "\t[8.675418651,-0.242068655,1],\n",
    "\t[7.673756466,3.508563011,1]])\n",
    "plt.scatter(dataset[:,0],dataset[:,1],c=dataset[:,2])\n",
    "weights = [-0.1, 0.20653640140000007, -0.23418117710000003]\n",
    "for row in dataset:\n",
    "\tprediction = predict(row, weights)\n",
    "\tprint(\"Expected=%d, Predicted=%d\" % (row[-1], prediction))"
   ]
  },
  {
   "cell_type": "code",
   "execution_count": 0,
   "metadata": {
    "colab": {},
    "colab_type": "code",
    "id": "cY6bTByLNnAS",
    "nbpresent": {
     "id": "fcb6d8db-1b6a-42de-8ee6-bb63b852e42b"
    },
    "slideshow": {
     "slide_type": "slide"
    }
   },
   "outputs": [],
   "source": [
    "def train_weights(train, l_rate, n_epoch):\n",
    "\tweights = [0.0 for i in range(len(train[0]))]\n",
    "\tfor epoch in range(n_epoch):\n",
    "\t\tsum_error = 0.0\n",
    "\t\tfor row in train:\n",
    "\t\t\tprediction = predict(row, weights)\n",
    "\t\t\terror = row[-1] - prediction\n",
    "\t\t\tsum_error += error**2\n",
    "\t\t\tweights[0] = weights[0] + l_rate * error\n",
    "\t\t\tfor i in range(len(row)-1):\n",
    "\t\t\t\tweights[i + 1] = weights[i + 1] + l_rate * error * row[i]\n",
    "\t\tprint('>epoch=%d, lrate=%.3f, error=%.3f' % (epoch, l_rate, sum_error))\n",
    "\treturn weights"
   ]
  },
  {
   "cell_type": "code",
   "execution_count": 6,
   "metadata": {
    "colab": {
     "base_uri": "https://localhost:8080/",
     "height": 121
    },
    "colab_type": "code",
    "id": "L3dKcVAtN2n0",
    "nbpresent": {
     "id": "82d8b5a1-7cc5-44c6-9450-f16156de038b"
    },
    "outputId": "d6570fd3-bd14-4fe6-87ef-33f3ac8f251f",
    "slideshow": {
     "slide_type": "slide"
    }
   },
   "outputs": [
    {
     "name": "stdout",
     "output_type": "stream",
     "text": [
      ">epoch=0, lrate=0.100, error=2.000\n",
      ">epoch=1, lrate=0.100, error=1.000\n",
      ">epoch=2, lrate=0.100, error=0.000\n",
      ">epoch=3, lrate=0.100, error=0.000\n",
      ">epoch=4, lrate=0.100, error=0.000\n",
      "[-0.1, 0.20653640140000007, -0.23418117710000003]\n"
     ]
    }
   ],
   "source": [
    "l_rate = 0.1\n",
    "n_epoch = 5\n",
    "weights = train_weights(dataset, l_rate, n_epoch)\n",
    "print(weights)"
   ]
  },
  {
   "cell_type": "markdown",
   "metadata": {
    "colab_type": "text",
    "id": "yBquXqVQ90hM",
    "nbpresent": {
     "id": "6eada2e1-f551-4291-9c15-4f3b05b6b329"
    },
    "slideshow": {
     "slide_type": "slide"
    }
   },
   "source": [
    "# a standard way to upload data from your google drive to the working colab space"
   ]
  },
  {
   "cell_type": "code",
   "execution_count": 0,
   "metadata": {
    "colab": {},
    "colab_type": "code",
    "id": "cMZNsHpSN65n",
    "nbpresent": {
     "id": "fbc8aaf3-ea28-497e-ae03-9116395190f1"
    },
    "slideshow": {
     "slide_type": "subslide"
    }
   },
   "outputs": [],
   "source": [
    "file_id='1F9a2jvncfH3mXjmQwAFMyzyLJhLOeiPL'\n",
    "!pip install -U -q PyDrive\n",
    "from pydrive.auth import GoogleAuth\n",
    "from pydrive.drive import GoogleDrive\n",
    "from google.colab import auth\n",
    "from oauth2client.client import GoogleCredentials\n",
    "\n",
    "# 1. Authenticate and create the PyDrive client.\n",
    "auth.authenticate_user()\n",
    "gauth = GoogleAuth()\n",
    "gauth.credentials = GoogleCredentials.get_application_default()\n",
    "drive = GoogleDrive(gauth)\n",
    "\n",
    "import numpy as np\n",
    "zip_import = drive.CreateFile({'id':file_id})\n",
    "zip_import.GetContentFile('sonar_all-data.txt')"
   ]
  },
  {
   "cell_type": "code",
   "execution_count": 10,
   "metadata": {
    "colab": {
     "base_uri": "https://localhost:8080/",
     "height": 34
    },
    "colab_type": "code",
    "id": "7WeJ4rrnPTzu",
    "nbpresent": {
     "id": "a5bba61f-5ad8-4c90-a8ae-3295e937a3d1"
    },
    "outputId": "6e57b7a9-c9bc-4b2f-eb1d-1b5ccc67278a",
    "slideshow": {
     "slide_type": "notes"
    }
   },
   "outputs": [
    {
     "name": "stdout",
     "output_type": "stream",
     "text": [
      "\u001b[0m\u001b[01;34mdatalab\u001b[0m/  sonar_all-data.txt\r\n"
     ]
    }
   ],
   "source": [
    "ls"
   ]
  },
  {
   "cell_type": "code",
   "execution_count": 0,
   "metadata": {
    "colab": {},
    "colab_type": "code",
    "id": "IutY0sdZPb6W",
    "nbpresent": {
     "id": "39164428-ed65-4312-a5c0-d005c3894bcd"
    },
    "slideshow": {
     "slide_type": "slide"
    }
   },
   "outputs": [],
   "source": [
    "from random import randrange\n",
    "from csv import reader\n",
    "# Load a CSV file\n",
    "def load_csv(filename):\n",
    "\tdataset = list()\n",
    "\twith open(filename, 'r') as file:\n",
    "\t\tcsv_reader = reader(file)\n",
    "\t\tfor row in csv_reader:\n",
    "\t\t\tif not row:\n",
    "\t\t\t\tcontinue\n",
    "\t\t\tdataset.append(row)\n",
    "\treturn dataset\n",
    " \n",
    "# Convert string column to float\n",
    "def str_column_to_float(dataset, column):\n",
    "\tfor row in dataset:\n",
    "\t\trow[column] = float(row[column].strip())\n",
    " \n",
    "# Convert string column to integer\n",
    "def str_column_to_int(dataset, column):\n",
    "\tclass_values = [row[column] for row in dataset]\n",
    "\tunique = set(class_values)\n",
    "\tlookup = dict()\n",
    "\tfor i, value in enumerate(unique):\n",
    "\t\tlookup[value] = i\n",
    "\tfor row in dataset:\n",
    "\t\trow[column] = lookup[row[column]]\n",
    "\treturn lookup\n",
    " \n",
    "# Split a dataset into k folds\n",
    "def cross_validation_split(dataset, n_folds):\n",
    "\tdataset_split = list()\n",
    "\tdataset_copy = list(dataset)\n",
    "\tfold_size = int(len(dataset) / n_folds)\n",
    "\tfor i in range(n_folds):\n",
    "\t\tfold = list()\n",
    "\t\twhile len(fold) < fold_size:\n",
    "\t\t\tindex = randrange(len(dataset_copy))\n",
    "\t\t\tfold.append(dataset_copy.pop(index))\n",
    "\t\tdataset_split.append(fold)\n",
    "\treturn dataset_split\n",
    " \n",
    "# Calculate accuracy percentage\n",
    "def accuracy_metric(actual, predicted):\n",
    "\tcorrect = 0\n",
    "\tfor i in range(len(actual)):\n",
    "\t\tif actual[i] == predicted[i]:\n",
    "\t\t\tcorrect += 1\n",
    "\treturn correct / float(len(actual)) * 100.0\n",
    " \n",
    "# Evaluate an algorithm using a cross validation split\n",
    "def evaluate_algorithm(dataset, algorithm, n_folds, *args):\n",
    "\tfolds = cross_validation_split(dataset, n_folds)\n",
    "\tscores = list()\n",
    "\tfor fold in folds:\n",
    "\t\ttrain_set = list(folds)\n",
    "\t\ttrain_set.remove(fold)\n",
    "\t\ttrain_set = sum(train_set, [])\n",
    "\t\ttest_set = list()\n",
    "\t\tfor row in fold:\n",
    "\t\t\trow_copy = list(row)\n",
    "\t\t\ttest_set.append(row_copy)\n",
    "\t\t\trow_copy[-1] = None\n",
    "\t\tpredicted = algorithm(train_set, test_set, *args)\n",
    "\t\tactual = [row[-1] for row in fold]\n",
    "\t\taccuracy = accuracy_metric(actual, predicted)\n",
    "\t\tscores.append(accuracy)\n",
    "\treturn scores\n",
    " \n",
    "# Make a prediction with weights\n",
    "def predict(row, weights):\n",
    "\tactivation = weights[0]\n",
    "\tfor i in range(len(row)-1):\n",
    "\t\tactivation += weights[i + 1] * row[i]\n",
    "\treturn 1.0 if activation >= 0.0 else 0.0\n",
    " \n",
    "# Estimate Perceptron weights using stochastic gradient descent\n",
    "def train_weights(train, l_rate, n_epoch):\n",
    "\tweights = [0.0 for i in range(len(train[0]))]\n",
    "\tfor epoch in range(n_epoch):\n",
    "\t\tfor row in train:\n",
    "\t\t\tprediction = predict(row, weights)\n",
    "\t\t\terror = row[-1] - prediction\n",
    "\t\t\tweights[0] = weights[0] + l_rate * error\n",
    "\t\t\tfor i in range(len(row)-1):\n",
    "\t\t\t\tweights[i + 1] = weights[i + 1] + l_rate * error * row[i]\n",
    "\treturn weights\n",
    " \n",
    "# Perceptron Algorithm With Stochastic Gradient Descent\n",
    "def perceptron(train, test, l_rate, n_epoch):\n",
    "\tpredictions = list()\n",
    "\tweights = train_weights(train, l_rate, n_epoch)\n",
    "\tfor row in test:\n",
    "\t\tprediction = predict(row, weights)\n",
    "\t\tpredictions.append(prediction)\n",
    "\treturn(predictions)"
   ]
  },
  {
   "cell_type": "code",
   "execution_count": 17,
   "metadata": {
    "colab": {
     "base_uri": "https://localhost:8080/",
     "height": 52
    },
    "colab_type": "code",
    "id": "etFuIZWhPg0Z",
    "nbpresent": {
     "id": "f3b2d787-d9f9-4936-bd18-8ffcfce18415"
    },
    "outputId": "ecbdc04c-37c1-4d31-e9fb-a8a7f2f599d7",
    "slideshow": {
     "slide_type": "slide"
    }
   },
   "outputs": [
    {
     "name": "stdout",
     "output_type": "stream",
     "text": [
      "Scores: [62.31884057971014, 59.42028985507246, 71.01449275362319]\n",
      "Mean Accuracy: 64.251%\n"
     ]
    }
   ],
   "source": [
    "# Test the Perceptron algorithm on the sonar dataset\n",
    "np.random.seed(1)\n",
    "# load and prepare data\n",
    "filename = '/content/sonar_all-data.txt'\n",
    "dataset = load_csv(filename)\n",
    "for i in range(len(dataset[0])-1):\n",
    "\tstr_column_to_float(dataset, i)\n",
    "# convert string class to integers\n",
    "str_column_to_int(dataset, len(dataset[0])-1)\n",
    "# evaluate algorithm\n",
    "n_folds = 3\n",
    "l_rate = 0.01\n",
    "n_epoch = 500\n",
    "scores = evaluate_algorithm(dataset, perceptron, n_folds, l_rate, n_epoch)\n",
    "print('Scores: %s' % scores)\n",
    "print('Mean Accuracy: %.3f%%' % (sum(scores)/float(len(scores))))"
   ]
  },
  {
   "cell_type": "markdown",
   "metadata": {
    "colab_type": "text",
    "id": "KGXLKWYSQUB6",
    "nbpresent": {
     "id": "f2759f99-c9bd-4429-a618-beebb4e0a3ad"
    },
    "slideshow": {
     "slide_type": "slide"
    }
   },
   "source": [
    "# Iris data"
   ]
  },
  {
   "cell_type": "code",
   "execution_count": 2,
   "metadata": {
    "colab": {
     "base_uri": "https://localhost:8080/",
     "height": 500
    },
    "colab_type": "code",
    "id": "YiHJrJaIPiQe",
    "nbpresent": {
     "id": "d02bb93f-3eec-4ccf-98ad-40406d27f95a"
    },
    "outputId": "a7e5c7e3-92f1-4d4f-e596-d3c51d8bf089",
    "slideshow": {
     "slide_type": "subslide"
    }
   },
   "outputs": [
    {
     "data": {
      "text/html": [
       "<img src=\"http://scikit-learn.org/stable/_images/sphx_glr_plot_forest_iris_001.png\"/>"
      ],
      "text/plain": [
       "<IPython.core.display.Image object>"
      ]
     },
     "execution_count": 2,
     "metadata": {
      "tags": []
     },
     "output_type": "execute_result"
    }
   ],
   "source": [
    "from IPython.display import Image\n",
    "from IPython.core.display import HTML \n",
    "Image(url='http://scikit-learn.org/stable/_images/sphx_glr_plot_forest_iris_001.png')"
   ]
  },
  {
   "cell_type": "code",
   "execution_count": 6,
   "metadata": {
    "colab": {
     "base_uri": "https://localhost:8080/",
     "height": 396
    },
    "colab_type": "code",
    "id": "bRwNaNOn78Mb",
    "nbpresent": {
     "id": "1d4f5cad-d4a2-4360-942a-87d817f29a4d"
    },
    "outputId": "35ab82ac-1f91-45e7-fb6e-71b4300b7ace",
    "slideshow": {
     "slide_type": "slide"
    }
   },
   "outputs": [
    {
     "name": "stdout",
     "output_type": "stream",
     "text": [
      "source:https://academic.oup.com/cercor/advance-article/doi/10.1093/cercor/bhx268/4560155\n"
     ]
    },
    {
     "data": {
      "text/html": [
       "<img src=\"https://oup.silverchair-cdn.com/oup/backfile/Content_public/Journal/cercor/PAP/10.1093_cercor_bhx268/1/m_bhx268f01.png?Expires=1527070979&Signature=aNpLSjtFFIJscPDidI~jEdVAhhOzMCsbKbjLm3LpMGCscGhv3vr-Apz7HXpilMqELSnlb3tMPM5Qwg8n64JFzwPZmUlbp7Wk9p8vt561ybmuRW01QIGD7odfpwvOsGCDR3e4ipnnUcXNdfcBeWBVCZBb1~Yiu-u-Gc5Tzwqnj0fLxbJabNws8UqLO9H7XMmtRdrrLma-cw13cGnZUwk4zWsc65TwvC1DuuKMQ~8eoaPOVyWq8NDRBMfIROquUXrgwq8yUvs81TRQ6LbN05mPi9cPmYRVMtfRhIhQ4dzSraJtwgqBdMDZ69673VNxNzLp4eqXVra8A1C1O0scNCItkQ__&Key-Pair-Id=APKAIE5G5CRDK6RD3PGA\"/>"
      ],
      "text/plain": [
       "<IPython.core.display.Image object>"
      ]
     },
     "execution_count": 6,
     "metadata": {
      "tags": []
     },
     "output_type": "execute_result"
    }
   ],
   "source": [
    "print('source:{}'.format('https://academic.oup.com/cercor/advance-article/doi/10.1093/cercor/bhx268/4560155'))\n",
    "Image(url='https://oup.silverchair-cdn.com/oup/backfile/Content_public/Journal/cercor/PAP/10.1093_cercor_bhx268/1/m_bhx268f01.png?Expires=1527070979&Signature=aNpLSjtFFIJscPDidI~jEdVAhhOzMCsbKbjLm3LpMGCscGhv3vr-Apz7HXpilMqELSnlb3tMPM5Qwg8n64JFzwPZmUlbp7Wk9p8vt561ybmuRW01QIGD7odfpwvOsGCDR3e4ipnnUcXNdfcBeWBVCZBb1~Yiu-u-Gc5Tzwqnj0fLxbJabNws8UqLO9H7XMmtRdrrLma-cw13cGnZUwk4zWsc65TwvC1DuuKMQ~8eoaPOVyWq8NDRBMfIROquUXrgwq8yUvs81TRQ6LbN05mPi9cPmYRVMtfRhIhQ4dzSraJtwgqBdMDZ69673VNxNzLp4eqXVra8A1C1O0scNCItkQ__&Key-Pair-Id=APKAIE5G5CRDK6RD3PGA'\n",
    "  )\n"
   ]
  },
  {
   "cell_type": "code",
   "execution_count": 0,
   "metadata": {
    "colab": {},
    "colab_type": "code",
    "id": "30wTjXeB8j38",
    "nbpresent": {
     "id": "2b2681a4-3059-4f96-bda6-35ec2f594694"
    }
   },
   "outputs": [],
   "source": []
  }
 ],
 "metadata": {
  "celltoolbar": "Slideshow",
  "colab": {
   "include_colab_link": true,
   "name": "1.perceptron.ipynb",
   "provenance": [],
   "version": "0.3.2"
  },
  "kernelspec": {
   "display_name": "Python 3",
   "language": "python",
   "name": "python3"
  },
  "language_info": {
   "codemirror_mode": {
    "name": "ipython",
    "version": 3
   },
   "file_extension": ".py",
   "mimetype": "text/x-python",
   "name": "python",
   "nbconvert_exporter": "python",
   "pygments_lexer": "ipython3",
   "version": "3.6.5"
  },
  "nbpresent": {
   "slides": {
    "0bb411ed-6e04-4d74-8de0-0e2efcebee35": {
     "id": "0bb411ed-6e04-4d74-8de0-0e2efcebee35",
     "prev": "4b5ba76b-0578-48b3-a9cc-0f4622c9ffd5",
     "regions": {
      "51ebb8e3-6e86-4302-a4d2-6ba482c2aec5": {
       "attrs": {
        "height": 0.8,
        "width": 0.8,
        "x": 0.1,
        "y": 0.1
       },
       "content": {
        "cell": "fbc8aaf3-ea28-497e-ae03-9116395190f1",
        "part": "whole"
       },
       "id": "51ebb8e3-6e86-4302-a4d2-6ba482c2aec5"
      }
     }
    },
    "11a03987-f60d-4742-9478-b83ad6483c77": {
     "id": "11a03987-f60d-4742-9478-b83ad6483c77",
     "prev": "a006c1a3-b66f-4c3d-9dfb-2c898b822bc8",
     "regions": {
      "a33ede41-0e5c-474c-9ee1-4d300906aa14": {
       "attrs": {
        "height": 0.8,
        "width": 0.8,
        "x": 0.1,
        "y": 0.1
       },
       "content": {
        "cell": "d02bb93f-3eec-4ccf-98ad-40406d27f95a",
        "part": "whole"
       },
       "id": "a33ede41-0e5c-474c-9ee1-4d300906aa14"
      }
     }
    },
    "1972e7e1-c4d4-4058-b70f-c45452457466": {
     "id": "1972e7e1-c4d4-4058-b70f-c45452457466",
     "prev": "8879b527-426a-42c4-b7aa-76957075733b",
     "regions": {
      "50ee78be-4557-44e1-a739-09e71d4e8c41": {
       "attrs": {
        "height": 0.8,
        "width": 0.8,
        "x": 0.1,
        "y": 0.1
       },
       "content": {
        "cell": "f3b2d787-d9f9-4936-bd18-8ffcfce18415",
        "part": "whole"
       },
       "id": "50ee78be-4557-44e1-a739-09e71d4e8c41"
      }
     }
    },
    "1c69aa0d-39f1-4911-a5e5-d86d7fea5ddc": {
     "id": "1c69aa0d-39f1-4911-a5e5-d86d7fea5ddc",
     "prev": null,
     "regions": {
      "c5e0db02-609b-44c3-ae0f-ef77ac43c84f": {
       "attrs": {
        "height": 0.8,
        "width": 0.8,
        "x": 0.1,
        "y": 0.1
       },
       "content": {
        "cell": "61e7b085-cde5-435e-8b56-0ef019a97cb5",
        "part": "whole"
       },
       "id": "c5e0db02-609b-44c3-ae0f-ef77ac43c84f"
      }
     }
    },
    "4b5ba76b-0578-48b3-a9cc-0f4622c9ffd5": {
     "id": "4b5ba76b-0578-48b3-a9cc-0f4622c9ffd5",
     "prev": "4e4c4774-196a-464c-bcd0-c86856d41174",
     "regions": {
      "cfac258c-e9be-444d-93a0-2eb34df70367": {
       "attrs": {
        "height": 0.8,
        "width": 0.8,
        "x": 0.1,
        "y": 0.1
       },
       "content": {
        "cell": "6eada2e1-f551-4291-9c15-4f3b05b6b329",
        "part": "whole"
       },
       "id": "cfac258c-e9be-444d-93a0-2eb34df70367"
      }
     }
    },
    "4e4c4774-196a-464c-bcd0-c86856d41174": {
     "id": "4e4c4774-196a-464c-bcd0-c86856d41174",
     "prev": "7d20a362-f0a8-4fa9-9e43-2608e72f97b5",
     "regions": {
      "312b2abc-fced-4195-b739-f117684193cf": {
       "attrs": {
        "height": 0.8,
        "width": 0.8,
        "x": 0.1,
        "y": 0.1
       },
       "content": {
        "cell": "82d8b5a1-7cc5-44c6-9450-f16156de038b",
        "part": "whole"
       },
       "id": "312b2abc-fced-4195-b739-f117684193cf"
      }
     }
    },
    "607cb593-db67-4cea-ae4f-33c5ca035a16": {
     "id": "607cb593-db67-4cea-ae4f-33c5ca035a16",
     "prev": "11a03987-f60d-4742-9478-b83ad6483c77",
     "regions": {
      "8b1da6f3-1bb8-44bb-98dd-c17514bcd8b3": {
       "attrs": {
        "height": 0.4,
        "width": 0.8,
        "x": 0.1,
        "y": 0.5
       },
       "content": {
        "cell": "2b2681a4-3059-4f96-bda6-35ec2f594694",
        "part": "whole"
       },
       "id": "8b1da6f3-1bb8-44bb-98dd-c17514bcd8b3"
      },
      "c8d069fa-de82-41ed-836c-5f21bac447dc": {
       "attrs": {
        "height": 0.8,
        "width": 0.8,
        "x": 0.1,
        "y": 0.1
       },
       "content": {
        "cell": "1d4f5cad-d4a2-4360-942a-87d817f29a4d",
        "part": "whole"
       },
       "id": "c8d069fa-de82-41ed-836c-5f21bac447dc"
      }
     }
    },
    "7d20a362-f0a8-4fa9-9e43-2608e72f97b5": {
     "id": "7d20a362-f0a8-4fa9-9e43-2608e72f97b5",
     "prev": "c0a82578-0a07-4c91-ac88-a30cd4231e6a",
     "regions": {
      "47622409-f1fe-492a-bed3-a3629dfa3c35": {
       "attrs": {
        "height": 0.8,
        "width": 0.8,
        "x": 0.1,
        "y": 0.1
       },
       "content": {
        "cell": "fcb6d8db-1b6a-42de-8ee6-bb63b852e42b",
        "part": "whole"
       },
       "id": "47622409-f1fe-492a-bed3-a3629dfa3c35"
      }
     }
    },
    "84bc2bb5-4b34-455d-aaf5-1554389b0fa8": {
     "id": "84bc2bb5-4b34-455d-aaf5-1554389b0fa8",
     "prev": "1c69aa0d-39f1-4911-a5e5-d86d7fea5ddc",
     "regions": {
      "e4538b2c-b4a7-44bf-9834-a70734d6f1f2": {
       "attrs": {
        "height": 0.8,
        "width": 0.8,
        "x": 0.1,
        "y": 0.1
       },
       "content": {
        "cell": "79e9e3ea-a9c5-4091-a6b1-4273978fa38e",
        "part": "whole"
       },
       "id": "e4538b2c-b4a7-44bf-9834-a70734d6f1f2"
      }
     }
    },
    "8879b527-426a-42c4-b7aa-76957075733b": {
     "id": "8879b527-426a-42c4-b7aa-76957075733b",
     "prev": "0bb411ed-6e04-4d74-8de0-0e2efcebee35",
     "regions": {
      "2f9413d2-f43e-49c8-9758-21962ac2063f": {
       "attrs": {
        "height": 0.8,
        "width": 0.8,
        "x": 0.1,
        "y": 0.1
       },
       "content": {
        "cell": "39164428-ed65-4312-a5c0-d005c3894bcd",
        "part": "whole"
       },
       "id": "2f9413d2-f43e-49c8-9758-21962ac2063f"
      }
     }
    },
    "a006c1a3-b66f-4c3d-9dfb-2c898b822bc8": {
     "id": "a006c1a3-b66f-4c3d-9dfb-2c898b822bc8",
     "prev": "1972e7e1-c4d4-4058-b70f-c45452457466",
     "regions": {
      "fe964956-280d-40f2-ae5d-42f242c559e7": {
       "attrs": {
        "height": 0.8,
        "width": 0.8,
        "x": 0.1,
        "y": 0.1
       },
       "content": {
        "cell": "f2759f99-c9bd-4429-a618-beebb4e0a3ad",
        "part": "whole"
       },
       "id": "fe964956-280d-40f2-ae5d-42f242c559e7"
      }
     }
    },
    "c0a82578-0a07-4c91-ac88-a30cd4231e6a": {
     "id": "c0a82578-0a07-4c91-ac88-a30cd4231e6a",
     "prev": "eb09e5aa-0f86-49a3-9ba4-281609c37c79",
     "regions": {
      "6049bbd2-117b-4c99-aacc-be32f26b1783": {
       "attrs": {
        "height": 0.8,
        "width": 0.8,
        "x": 0.1,
        "y": 0.1
       },
       "content": {
        "cell": "f4ddf0b0-e2bc-4d24-bc02-5540b4f3d0d2",
        "part": "whole"
       },
       "id": "6049bbd2-117b-4c99-aacc-be32f26b1783"
      }
     }
    },
    "eb09e5aa-0f86-49a3-9ba4-281609c37c79": {
     "id": "eb09e5aa-0f86-49a3-9ba4-281609c37c79",
     "prev": "84bc2bb5-4b34-455d-aaf5-1554389b0fa8",
     "regions": {
      "77e13b17-8c25-46bb-a892-e96fec4b4588": {
       "attrs": {
        "height": 0.8,
        "width": 0.8,
        "x": 0.1,
        "y": 0.1
       },
       "content": {
        "cell": "89bd503b-28de-4ef2-8fe8-b533f0a479c5",
        "part": "whole"
       },
       "id": "77e13b17-8c25-46bb-a892-e96fec4b4588"
      }
     }
    }
   },
   "themes": {}
  }
 },
 "nbformat": 4,
 "nbformat_minor": 1
}
