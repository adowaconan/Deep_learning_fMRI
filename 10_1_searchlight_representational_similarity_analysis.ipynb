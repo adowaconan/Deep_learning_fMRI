{
  "nbformat": 4,
  "nbformat_minor": 0,
  "metadata": {
    "colab": {
      "name": "10.1.searchlight representational similarity analysis.ipynb",
      "provenance": [],
      "authorship_tag": "ABX9TyMqQJ4bC8iy96HNz8MQMIpj",
      "include_colab_link": true
    },
    "kernelspec": {
      "name": "python3",
      "display_name": "Python 3"
    }
  },
  "cells": [
    {
      "cell_type": "markdown",
      "metadata": {
        "id": "view-in-github",
        "colab_type": "text"
      },
      "source": [
        "<a href=\"https://colab.research.google.com/github/nmningmei/Deep_learning_fMRI_EEG/blob/master/10_1_searchlight_representational_similarity_analysis.ipynb\" target=\"_parent\"><img src=\"https://colab.research.google.com/assets/colab-badge.svg\" alt=\"Open In Colab\"/></a>"
      ]
    },
    {
      "cell_type": "markdown",
      "metadata": {
        "id": "Df-vPFlvQ8p3"
      },
      "source": [
        "# The script to illustrate a way to perform searchlight RSA."
      ]
    },
    {
      "cell_type": "markdown",
      "metadata": {
        "id": "HXrHGp7VSWEv"
      },
      "source": [
        "# Get the extracted features and the mask files"
      ]
    },
    {
      "cell_type": "code",
      "metadata": {
        "id": "xzt5iZvKPx0H",
        "outputId": "1d4667ec-d3a7-42d6-f94e-914eceb90e18",
        "colab": {
          "base_uri": "https://localhost:8080/"
        }
      },
      "source": [
        "try:\n",
        "    !git clone https://github.com/nmningmei/Extracted_features_of_Spanish_image_dataset.git\n",
        "except:\n",
        "    !ls Extracted_features_of_Spanish_image_dataset"
      ],
      "execution_count": 29,
      "outputs": [
        {
          "output_type": "stream",
          "text": [
            "fatal: destination path 'Extracted_features_of_Spanish_image_dataset' already exists and is not an empty directory.\n"
          ],
          "name": "stdout"
        }
      ]
    },
    {
      "cell_type": "markdown",
      "metadata": {
        "id": "XaBuTFDoZQTv"
      },
      "source": [
        "# Get the fMRI data"
      ]
    },
    {
      "cell_type": "code",
      "metadata": {
        "id": "uN2ilE3MYPWj"
      },
      "source": [
        "# Import PyDrive and associated libraries.\n",
        "# This only needs to be done once per notebook.\n",
        "from pydrive.auth import GoogleAuth\n",
        "from pydrive.drive import GoogleDrive\n",
        "from google.colab import auth\n",
        "from oauth2client.client import GoogleCredentials\n",
        "\n",
        "# Authenticate and create the PyDrive client.\n",
        "# This only needs to be done once per notebook.\n",
        "auth.authenticate_user()\n",
        "gauth = GoogleAuth()\n",
        "gauth.credentials = GoogleCredentials.get_application_default()\n",
        "drive = GoogleDrive(gauth)\n",
        "\n",
        "# Download a file based on its file ID.\n",
        "#\n",
        "# A file ID looks like: laggVyWshwcyP6kEI-y_W3P8D26sz\n",
        "file_id = '1vLWSdXpOxqp3jOCypsWA27AEptsGdwav'\n",
        "downloaded = drive.CreateFile({'id': file_id})\n"
      ],
      "execution_count": 30,
      "outputs": []
    },
    {
      "cell_type": "code",
      "metadata": {
        "id": "siP40EAcRdO_"
      },
      "source": [
        "downloaded.GetContentFile('whole_bran.tar.gz')"
      ],
      "execution_count": 31,
      "outputs": []
    },
    {
      "cell_type": "code",
      "metadata": {
        "id": "9t4uX01wY6aU",
        "outputId": "60cc6739-93d4-4b48-f146-7e2fe8c5fdc3",
        "colab": {
          "base_uri": "https://localhost:8080/"
        }
      },
      "source": [
        "!tar -xvf whole_bran.tar.gz"
      ],
      "execution_count": 32,
      "outputs": [
        {
          "output_type": "stream",
          "text": [
            "whole_brain_conscious.csv\n",
            "whole_brain_unconscious.csv\n",
            "whole_brain_unconscious.nii.gz\n",
            "whole_brain_conscious.nii.gz\n"
          ],
          "name": "stdout"
        }
      ]
    },
    {
      "cell_type": "code",
      "metadata": {
        "id": "2olG3v16ZKVC",
        "outputId": "ec71e569-af51-4df3-d807-c62944a64ff1",
        "colab": {
          "base_uri": "https://localhost:8080/"
        }
      },
      "source": [
        "ls"
      ],
      "execution_count": 33,
      "outputs": [
        {
          "output_type": "stream",
          "text": [
            "adc.json                                      \u001b[0m\u001b[01;32mwhole_brain_conscious.nii.gz\u001b[0m*\n",
            "\u001b[01;34mExtracted_features_of_Spanish_image_dataset\u001b[0m/  \u001b[01;32mwhole_brain_unconscious.csv\u001b[0m*\n",
            "\u001b[01;34msample_data\u001b[0m/                                  \u001b[01;32mwhole_brain_unconscious.nii.gz\u001b[0m*\n",
            "\u001b[01;32mwhole_brain_conscious.csv\u001b[0m*                    whole_bran.tar.gz\n"
          ],
          "name": "stdout"
        }
      ]
    },
    {
      "cell_type": "markdown",
      "metadata": {
        "id": "gAz9nOmO_-I5"
      },
      "source": [
        "# install and update some of the libraries if not "
      ]
    },
    {
      "cell_type": "code",
      "metadata": {
        "id": "n9Rkj9z1ZOc0"
      },
      "source": [
        "try:\n",
        "    from nilearn.input_data import NiftiMasker\n",
        "    from brainiak.searchlight.searchlight import Searchlight\n",
        "    from brainiak.searchlight.searchlight import Ball\n",
        "except:\n",
        "    !pip install nilearn\n",
        "    !python3 -m pip install -U brainiak\n",
        "    from nilearn.input_data import NiftiMasker\n",
        "    from brainiak.searchlight.searchlight import Searchlight\n",
        "    from brainiak.searchlight.searchlight import Ball\n",
        "\n",
        "import os,gc\n",
        "\n",
        "import pandas as pd\n",
        "import numpy as np\n",
        "\n",
        "from nibabel import load as load_fmri\n",
        "from joblib  import Parallel,delayed"
      ],
      "execution_count": 38,
      "outputs": []
    },
    {
      "cell_type": "code",
      "metadata": {
        "id": "WpT4JwEPlXV5"
      },
      "source": [
        "def normalize(data,axis = 1):\n",
        "    return data - data.mean(axis).reshape(-1,1)\n",
        "# Define voxel function\n",
        "def sfn(l, msk, myrad, bcast_var):\n",
        "    \"\"\"\n",
        "    l: BOLD\n",
        "    msk: mask array\n",
        "    myrad: not use\n",
        "    bcast_var: label -- CNN features\n",
        "    \"\"\"\n",
        "    X = l[0][msk,:].T.copy() # vectorize the voxel values in the sphere\n",
        "    y = bcast_var.copy() # vectorize the RDM\n",
        "    # pearson correlation\n",
        "    RDM_X   = distance.pdist(normalize(BOLD),'correlation')\n",
        "    RDM_y   = distance.pdist(normalize(model),'correlation')\n",
        "    D,p     = spearmanr(RDM_X,RDM_y)\n",
        "    return D\n",
        "def process_csv(file_name = 'whole_brain_conscious.csv'):\n",
        "    \"\"\"\n",
        "    to add some info to the event files to create better cross-validation folds\n",
        "    \"\"\"\n",
        "    df_data = pd.read_csv(file_name)\n",
        "    df_data['id'] = df_data['session'] * 1000 + df_data['run'] * 100 + df_data['trials']\n",
        "    df_data = df_data[df_data.columns[1:]]\n",
        "    return df_data"
      ],
      "execution_count": 39,
      "outputs": []
    },
    {
      "cell_type": "code",
      "metadata": {
        "id": "upBOZVVYnfDO"
      },
      "source": [
        "radius              = 3 # in mm, the data has voxel size of 2.4mm x 2.4mm x 2.4mm\n",
        "feature_dir         = 'Extracted_features_of_Spanish_image_dataset/computer_vision_features_no_background'\n",
        "model_name          = 'VGG19'\n",
        "label_map           = {'Nonliving_Things':[0,1],'Living_Things':[1,0]}\n",
        "whole_brain_mask    = 'Extracted_features_of_Spanish_image_dataset/combine_BOLD.nii.gz'\n",
        "average             = True\n",
        "n_splits            = 10 # recommend to perform the resampling for more than 500 times\n",
        "n_jobs              = -1"
      ],
      "execution_count": 42,
      "outputs": []
    },
    {
      "cell_type": "code",
      "metadata": {
        "id": "kScQ0txinypn",
        "outputId": "0d618320-394a-4959-8772-982d163d1fa7",
        "colab": {
          "base_uri": "https://localhost:8080/",
          "height": 1000
        }
      },
      "source": [
        "for conscious_state in ['unconscious','conscious']:\n",
        "    np.random.seed(12345)\n",
        "\n",
        "    df_data         = process_csv(f'whole_brain_{conscious_state}.csv')\n",
        "\n",
        "    BOLD_image      = load_fmri(f'whole_brain_{conscious_state}.nii.gz')\n",
        "    print(f'{conscious_state}\\tfMRI in {BOLD_image.shape} events in {df_data.shape}')\n",
        "    targets         = np.array([label_map[item] for item in df_data['targets']])[:,-1]\n",
        "    images          = df_data['paths'].apply(lambda x: x.split('.')[0] + '.npy').values\n",
        "    CNN_feature     = np.array([np.load(os.path.join(feature_dir,\n",
        "                                                     model_name,\n",
        "                                                     item)) for item in images])\n",
        "    groups          = df_data['labels'].values\n",
        "\n",
        "    # define a function to create the folds first\n",
        "    def _proc(df_data):\n",
        "        \"\"\"\n",
        "        This is useful when the number of folds are thousands\n",
        "        \"\"\"\n",
        "        df_picked = df_data.groupby('labels').apply(lambda x: x.sample(n = 1).drop('labels',axis = 1)).reset_index()\n",
        "        df_picked = df_picked.sort_values(['targets','subcategory','labels'])\n",
        "        idx_test  = df_picked['level_1'].values\n",
        "        return idx_test\n",
        "    print(f'partitioning data for {n_splits} folds')\n",
        "    idxs = Parallel(n_jobs = -1, verbose = 1)(delayed(_proc)(**{\n",
        "                'df_data':df_data,}) for _ in range(n_splits))\n",
        "    gc.collect() # free memory that is occupied by garbage\n",
        "\n",
        "    # define a function to run the RSA\n",
        "    def _searchligh_RSA(idx,\n",
        "                        sl_rad = radius, \n",
        "                        max_blk_edge = radius - 1, \n",
        "                        shape = Ball,\n",
        "                        min_active_voxels_proportion = 0,\n",
        "                        ):\n",
        "        # Brainiak function\n",
        "        sl = Searchlight(sl_rad = sl_rad, \n",
        "                        max_blk_edge = max_blk_edge, \n",
        "                        shape = shape,\n",
        "                        min_active_voxels_proportion = min_active_voxels_proportion,\n",
        "                        )\n",
        "        # distribute the data based on the sphere\n",
        "        ## the first input is usually the BOLD signal, and it is in the form of \n",
        "        ## lists not arrays, representing each subject\n",
        "        ## the second input is usually the mask, and it is in the form of array\n",
        "        sl.distribute([np.asanyarray(BOLD_image.dataobj)[:,:,:,idx]], \n",
        "                        np.asanyarray(load_fmri(whole_brain_mask).dataobj) == 1)\n",
        "        # broadcasted data is the data that remains the same during RSA\n",
        "        sl.broadcast(CNN_feature[idx])\n",
        "        # run searchlight algorithm\n",
        "        global_outputs = sl.run_searchlight(sfn,\n",
        "                                            pool_size = 1, # we run each RSA using a single CPU\n",
        "                                            )\n",
        "        return global_outputs\n",
        "    for _ in range(10):\n",
        "        gc.collect()\n",
        "    res = Parallel(n_jobs = -1,verbose = 1,)(delayed(_searchligh_RSA)(**{\n",
        "                'idx':idx}) for idx in idxs)\n",
        "    # save the data\n",
        "    results_to_save = np.zeros(np.concatenate([BOLD_image.shape[:3],[n_splits]]))\n",
        "    for ii,item in enumerate(res):\n",
        "        results_to_save[:,:,:,ii] = np.array(item, dtype=np.float)\n",
        "    results_to_save = new_img_like(BOLD_image,results_to_save,)\n",
        "    results_to_save.to_filename(os.path.join(output_dir,f'{conscious_state}.nii.gz'))"
      ],
      "execution_count": 43,
      "outputs": [
        {
          "output_type": "stream",
          "text": [
            "unconscious\tfMRI in (88, 88, 66, 782) events in (782, 20)\n",
            "partitioning data for 10 folds\n"
          ],
          "name": "stdout"
        },
        {
          "output_type": "stream",
          "text": [
            "[Parallel(n_jobs=-1)]: Using backend LokyBackend with 2 concurrent workers.\n",
            "[Parallel(n_jobs=-1)]: Done  10 out of  10 | elapsed:    3.0s finished\n",
            "[Parallel(n_jobs=-1)]: Using backend LokyBackend with 2 concurrent workers.\n"
          ],
          "name": "stderr"
        },
        {
          "output_type": "error",
          "ename": "NameError",
          "evalue": "ignored",
          "traceback": [
            "\u001b[0;31m---------------------------------------------------------------------------\u001b[0m",
            "\u001b[0;31m_RemoteTraceback\u001b[0m                          Traceback (most recent call last)",
            "\u001b[0;31m_RemoteTraceback\u001b[0m: \n\"\"\"\nTraceback (most recent call last):\n  File \"/usr/local/lib/python3.6/dist-packages/joblib/externals/loky/process_executor.py\", line 431, in _process_worker\n    r = call_item()\n  File \"/usr/local/lib/python3.6/dist-packages/joblib/externals/loky/process_executor.py\", line 285, in __call__\n    return self.fn(*self.args, **self.kwargs)\n  File \"/usr/local/lib/python3.6/dist-packages/joblib/_parallel_backends.py\", line 595, in __call__\n    return self.func(*args, **kwargs)\n  File \"/usr/local/lib/python3.6/dist-packages/joblib/parallel.py\", line 263, in __call__\n    for func, args, kwargs in self.items]\n  File \"/usr/local/lib/python3.6/dist-packages/joblib/parallel.py\", line 263, in <listcomp>\n    for func, args, kwargs in self.items]\n  File \"<ipython-input-43-a9deae2d4e7c>\", line 52, in _searchligh_RSA\n  File \"/usr/local/lib/python3.6/dist-packages/brainiak/searchlight/searchlight.py\", line 521, in run_searchlight\n    pool_size)\n  File \"/usr/local/lib/python3.6/dist-packages/brainiak/searchlight/searchlight.py\", line 457, in run_block_function\n    extra_block_fn_params)\n  File \"/usr/local/lib/python3.6/dist-packages/brainiak/searchlight/searchlight.py\", line 560, in _singlenode_searchlight\n    bcast_var)\n  File \"<ipython-input-39-b22d3b42e171>\", line 14, in sfn\nNameError: name 'distance' is not defined\n\"\"\"",
            "\nThe above exception was the direct cause of the following exception:\n",
            "\u001b[0;31mNameError\u001b[0m                                 Traceback (most recent call last)",
            "\u001b[0;32m<ipython-input-43-a9deae2d4e7c>\u001b[0m in \u001b[0;36m<module>\u001b[0;34m()\u001b[0m\n\u001b[1;32m     56\u001b[0m         \u001b[0mgc\u001b[0m\u001b[0;34m.\u001b[0m\u001b[0mcollect\u001b[0m\u001b[0;34m(\u001b[0m\u001b[0;34m)\u001b[0m\u001b[0;34m\u001b[0m\u001b[0;34m\u001b[0m\u001b[0m\n\u001b[1;32m     57\u001b[0m     res = Parallel(n_jobs = -1,verbose = 1,)(delayed(_searchligh_RSA)(**{\n\u001b[0;32m---> 58\u001b[0;31m                 'idx':idx}) for idx in idxs)\n\u001b[0m\u001b[1;32m     59\u001b[0m     \u001b[0;31m# save the data\u001b[0m\u001b[0;34m\u001b[0m\u001b[0;34m\u001b[0m\u001b[0;34m\u001b[0m\u001b[0m\n\u001b[1;32m     60\u001b[0m     \u001b[0mresults_to_save\u001b[0m \u001b[0;34m=\u001b[0m \u001b[0mnp\u001b[0m\u001b[0;34m.\u001b[0m\u001b[0mzeros\u001b[0m\u001b[0;34m(\u001b[0m\u001b[0mnp\u001b[0m\u001b[0;34m.\u001b[0m\u001b[0mconcatenate\u001b[0m\u001b[0;34m(\u001b[0m\u001b[0;34m[\u001b[0m\u001b[0mBOLD_image\u001b[0m\u001b[0;34m.\u001b[0m\u001b[0mshape\u001b[0m\u001b[0;34m[\u001b[0m\u001b[0;34m:\u001b[0m\u001b[0;36m3\u001b[0m\u001b[0;34m]\u001b[0m\u001b[0;34m,\u001b[0m\u001b[0;34m[\u001b[0m\u001b[0mn_splits\u001b[0m\u001b[0;34m]\u001b[0m\u001b[0;34m]\u001b[0m\u001b[0;34m)\u001b[0m\u001b[0;34m)\u001b[0m\u001b[0;34m\u001b[0m\u001b[0;34m\u001b[0m\u001b[0m\n",
            "\u001b[0;32m/usr/local/lib/python3.6/dist-packages/joblib/parallel.py\u001b[0m in \u001b[0;36m__call__\u001b[0;34m(self, iterable)\u001b[0m\n\u001b[1;32m   1059\u001b[0m \u001b[0;34m\u001b[0m\u001b[0m\n\u001b[1;32m   1060\u001b[0m             \u001b[0;32mwith\u001b[0m \u001b[0mself\u001b[0m\u001b[0;34m.\u001b[0m\u001b[0m_backend\u001b[0m\u001b[0;34m.\u001b[0m\u001b[0mretrieval_context\u001b[0m\u001b[0;34m(\u001b[0m\u001b[0;34m)\u001b[0m\u001b[0;34m:\u001b[0m\u001b[0;34m\u001b[0m\u001b[0;34m\u001b[0m\u001b[0m\n\u001b[0;32m-> 1061\u001b[0;31m                 \u001b[0mself\u001b[0m\u001b[0;34m.\u001b[0m\u001b[0mretrieve\u001b[0m\u001b[0;34m(\u001b[0m\u001b[0;34m)\u001b[0m\u001b[0;34m\u001b[0m\u001b[0;34m\u001b[0m\u001b[0m\n\u001b[0m\u001b[1;32m   1062\u001b[0m             \u001b[0;31m# Make sure that we get a last message telling us we are done\u001b[0m\u001b[0;34m\u001b[0m\u001b[0;34m\u001b[0m\u001b[0;34m\u001b[0m\u001b[0m\n\u001b[1;32m   1063\u001b[0m             \u001b[0melapsed_time\u001b[0m \u001b[0;34m=\u001b[0m \u001b[0mtime\u001b[0m\u001b[0;34m.\u001b[0m\u001b[0mtime\u001b[0m\u001b[0;34m(\u001b[0m\u001b[0;34m)\u001b[0m \u001b[0;34m-\u001b[0m \u001b[0mself\u001b[0m\u001b[0;34m.\u001b[0m\u001b[0m_start_time\u001b[0m\u001b[0;34m\u001b[0m\u001b[0;34m\u001b[0m\u001b[0m\n",
            "\u001b[0;32m/usr/local/lib/python3.6/dist-packages/joblib/parallel.py\u001b[0m in \u001b[0;36mretrieve\u001b[0;34m(self)\u001b[0m\n\u001b[1;32m    938\u001b[0m             \u001b[0;32mtry\u001b[0m\u001b[0;34m:\u001b[0m\u001b[0;34m\u001b[0m\u001b[0;34m\u001b[0m\u001b[0m\n\u001b[1;32m    939\u001b[0m                 \u001b[0;32mif\u001b[0m \u001b[0mgetattr\u001b[0m\u001b[0;34m(\u001b[0m\u001b[0mself\u001b[0m\u001b[0;34m.\u001b[0m\u001b[0m_backend\u001b[0m\u001b[0;34m,\u001b[0m \u001b[0;34m'supports_timeout'\u001b[0m\u001b[0;34m,\u001b[0m \u001b[0;32mFalse\u001b[0m\u001b[0;34m)\u001b[0m\u001b[0;34m:\u001b[0m\u001b[0;34m\u001b[0m\u001b[0;34m\u001b[0m\u001b[0m\n\u001b[0;32m--> 940\u001b[0;31m                     \u001b[0mself\u001b[0m\u001b[0;34m.\u001b[0m\u001b[0m_output\u001b[0m\u001b[0;34m.\u001b[0m\u001b[0mextend\u001b[0m\u001b[0;34m(\u001b[0m\u001b[0mjob\u001b[0m\u001b[0;34m.\u001b[0m\u001b[0mget\u001b[0m\u001b[0;34m(\u001b[0m\u001b[0mtimeout\u001b[0m\u001b[0;34m=\u001b[0m\u001b[0mself\u001b[0m\u001b[0;34m.\u001b[0m\u001b[0mtimeout\u001b[0m\u001b[0;34m)\u001b[0m\u001b[0;34m)\u001b[0m\u001b[0;34m\u001b[0m\u001b[0;34m\u001b[0m\u001b[0m\n\u001b[0m\u001b[1;32m    941\u001b[0m                 \u001b[0;32melse\u001b[0m\u001b[0;34m:\u001b[0m\u001b[0;34m\u001b[0m\u001b[0;34m\u001b[0m\u001b[0m\n\u001b[1;32m    942\u001b[0m                     \u001b[0mself\u001b[0m\u001b[0;34m.\u001b[0m\u001b[0m_output\u001b[0m\u001b[0;34m.\u001b[0m\u001b[0mextend\u001b[0m\u001b[0;34m(\u001b[0m\u001b[0mjob\u001b[0m\u001b[0;34m.\u001b[0m\u001b[0mget\u001b[0m\u001b[0;34m(\u001b[0m\u001b[0;34m)\u001b[0m\u001b[0;34m)\u001b[0m\u001b[0;34m\u001b[0m\u001b[0;34m\u001b[0m\u001b[0m\n",
            "\u001b[0;32m/usr/local/lib/python3.6/dist-packages/joblib/_parallel_backends.py\u001b[0m in \u001b[0;36mwrap_future_result\u001b[0;34m(future, timeout)\u001b[0m\n\u001b[1;32m    540\u001b[0m         AsyncResults.get from multiprocessing.\"\"\"\n\u001b[1;32m    541\u001b[0m         \u001b[0;32mtry\u001b[0m\u001b[0;34m:\u001b[0m\u001b[0;34m\u001b[0m\u001b[0;34m\u001b[0m\u001b[0m\n\u001b[0;32m--> 542\u001b[0;31m             \u001b[0;32mreturn\u001b[0m \u001b[0mfuture\u001b[0m\u001b[0;34m.\u001b[0m\u001b[0mresult\u001b[0m\u001b[0;34m(\u001b[0m\u001b[0mtimeout\u001b[0m\u001b[0;34m=\u001b[0m\u001b[0mtimeout\u001b[0m\u001b[0;34m)\u001b[0m\u001b[0;34m\u001b[0m\u001b[0;34m\u001b[0m\u001b[0m\n\u001b[0m\u001b[1;32m    543\u001b[0m         \u001b[0;32mexcept\u001b[0m \u001b[0mCfTimeoutError\u001b[0m \u001b[0;32mas\u001b[0m \u001b[0me\u001b[0m\u001b[0;34m:\u001b[0m\u001b[0;34m\u001b[0m\u001b[0;34m\u001b[0m\u001b[0m\n\u001b[1;32m    544\u001b[0m             \u001b[0;32mraise\u001b[0m \u001b[0mTimeoutError\u001b[0m \u001b[0;32mfrom\u001b[0m \u001b[0me\u001b[0m\u001b[0;34m\u001b[0m\u001b[0;34m\u001b[0m\u001b[0m\n",
            "\u001b[0;32m/usr/lib/python3.6/concurrent/futures/_base.py\u001b[0m in \u001b[0;36mresult\u001b[0;34m(self, timeout)\u001b[0m\n\u001b[1;32m    430\u001b[0m                 \u001b[0;32mraise\u001b[0m \u001b[0mCancelledError\u001b[0m\u001b[0;34m(\u001b[0m\u001b[0;34m)\u001b[0m\u001b[0;34m\u001b[0m\u001b[0;34m\u001b[0m\u001b[0m\n\u001b[1;32m    431\u001b[0m             \u001b[0;32melif\u001b[0m \u001b[0mself\u001b[0m\u001b[0;34m.\u001b[0m\u001b[0m_state\u001b[0m \u001b[0;34m==\u001b[0m \u001b[0mFINISHED\u001b[0m\u001b[0;34m:\u001b[0m\u001b[0;34m\u001b[0m\u001b[0;34m\u001b[0m\u001b[0m\n\u001b[0;32m--> 432\u001b[0;31m                 \u001b[0;32mreturn\u001b[0m \u001b[0mself\u001b[0m\u001b[0;34m.\u001b[0m\u001b[0m__get_result\u001b[0m\u001b[0;34m(\u001b[0m\u001b[0;34m)\u001b[0m\u001b[0;34m\u001b[0m\u001b[0;34m\u001b[0m\u001b[0m\n\u001b[0m\u001b[1;32m    433\u001b[0m             \u001b[0;32melse\u001b[0m\u001b[0;34m:\u001b[0m\u001b[0;34m\u001b[0m\u001b[0;34m\u001b[0m\u001b[0m\n\u001b[1;32m    434\u001b[0m                 \u001b[0;32mraise\u001b[0m \u001b[0mTimeoutError\u001b[0m\u001b[0;34m(\u001b[0m\u001b[0;34m)\u001b[0m\u001b[0;34m\u001b[0m\u001b[0;34m\u001b[0m\u001b[0m\n",
            "\u001b[0;32m/usr/lib/python3.6/concurrent/futures/_base.py\u001b[0m in \u001b[0;36m__get_result\u001b[0;34m(self)\u001b[0m\n\u001b[1;32m    382\u001b[0m     \u001b[0;32mdef\u001b[0m \u001b[0m__get_result\u001b[0m\u001b[0;34m(\u001b[0m\u001b[0mself\u001b[0m\u001b[0;34m)\u001b[0m\u001b[0;34m:\u001b[0m\u001b[0;34m\u001b[0m\u001b[0;34m\u001b[0m\u001b[0m\n\u001b[1;32m    383\u001b[0m         \u001b[0;32mif\u001b[0m \u001b[0mself\u001b[0m\u001b[0;34m.\u001b[0m\u001b[0m_exception\u001b[0m\u001b[0;34m:\u001b[0m\u001b[0;34m\u001b[0m\u001b[0;34m\u001b[0m\u001b[0m\n\u001b[0;32m--> 384\u001b[0;31m             \u001b[0;32mraise\u001b[0m \u001b[0mself\u001b[0m\u001b[0;34m.\u001b[0m\u001b[0m_exception\u001b[0m\u001b[0;34m\u001b[0m\u001b[0;34m\u001b[0m\u001b[0m\n\u001b[0m\u001b[1;32m    385\u001b[0m         \u001b[0;32melse\u001b[0m\u001b[0;34m:\u001b[0m\u001b[0;34m\u001b[0m\u001b[0;34m\u001b[0m\u001b[0m\n\u001b[1;32m    386\u001b[0m             \u001b[0;32mreturn\u001b[0m \u001b[0mself\u001b[0m\u001b[0;34m.\u001b[0m\u001b[0m_result\u001b[0m\u001b[0;34m\u001b[0m\u001b[0;34m\u001b[0m\u001b[0m\n",
            "\u001b[0;31mNameError\u001b[0m: name 'distance' is not defined"
          ]
        }
      ]
    },
    {
      "cell_type": "code",
      "metadata": {
        "id": "j7CSwuBND7DC"
      },
      "source": [
        ""
      ],
      "execution_count": null,
      "outputs": []
    }
  ]
}