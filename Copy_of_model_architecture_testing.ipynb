{
  "nbformat": 4,
  "nbformat_minor": 0,
  "metadata": {
    "colab": {
      "name": "Copy of model architecture testing.ipynb",
      "version": "0.3.2",
      "provenance": [],
      "collapsed_sections": [],
      "include_colab_link": true
    },
    "kernelspec": {
      "name": "python3",
      "display_name": "Python 3"
    }
  },
  "cells": [
    {
      "cell_type": "markdown",
      "metadata": {
        "id": "view-in-github",
        "colab_type": "text"
      },
      "source": [
        "[View in Colaboratory](https://colab.research.google.com/github/adowaconan/Deep_learning_fMRI/blob/master/Copy_of_model_architecture_testing.ipynb)"
      ]
    },
    {
      "metadata": {
        "id": "PAX7dSyOQA-6",
        "colab_type": "code",
        "colab": {
          "base_uri": "https://localhost:8080/",
          "height": 34
        },
        "outputId": "6c496a47-7bfa-4965-a445-798f55dcda8b"
      },
      "cell_type": "code",
      "source": [
        "import keras\n",
        "from keras import backend as K\n",
        "from keras.models import Sequential,Model\n",
        "from keras import regularizers\n",
        "from keras.layers import Dense, Dropout, Flatten,LeakyReLU,Input\n",
        "from keras.layers import Conv3D, AveragePooling3D,Reshape,Flatten\n",
        "from keras.layers import Conv3DTranspose,Activation\n",
        "from keras.layers import BatchNormalization,MaxPooling3D\n",
        "import numpy as np"
      ],
      "execution_count": 0,
      "outputs": [
        {
          "output_type": "stream",
          "text": [
            "Using TensorFlow backend.\n"
          ],
          "name": "stderr"
        }
      ]
    },
    {
      "metadata": {
        "id": "FbY4YKkxTCjP",
        "colab_type": "code",
        "colab": {
          "base_uri": "https://localhost:8080/",
          "height": 1111
        },
        "outputId": "bd97be52-526e-4972-b764-d5a090451576"
      },
      "cell_type": "code",
      "source": [
        "inputs = Input(shape=(182,218,182,1),batch_shape=(None,182,218,182,1),name='input',dtype='float32')\n",
        "conv1 = Conv3D(8,kernel_size=(3,3,3),strides=1,activation='relu',name='layer1_1')(inputs)\n",
        "conv1 = Conv3D(8,kernel_size=(3,3,3),strides=1,name='layer1_2')(conv1)\n",
        "conv1 = BatchNormalization(name='layer1_3')(conv1)\n",
        "conv1 = Activation('relu',name='layer1_4')(conv1)\n",
        "conv1 = MaxPooling3D(pool_size=(2,2,2),strides=(2,2,2),name='layer1_5')(conv1)\n",
        "\n",
        "conv2 = Conv3D(16,kernel_size=(3,3,3),strides=1,activation='relu',name='layer2_1')(conv1)\n",
        "conv2 = Conv3D(16,kernel_size=(3,3,3),strides=1,name='layer2_2')(conv2)\n",
        "conv2 = BatchNormalization(name='layer2_3')(conv2)\n",
        "conv2 = Activation('relu',name='layer2_4')(conv2)\n",
        "conv2 = MaxPooling3D(pool_size=(2,2,2),strides=(2,2,2),name='layer2_5')(conv2)\n",
        "\n",
        "conv3 = Conv3D(32,kernel_size=(3,3,3),strides=1,activation='relu',name='layer3_1')(conv2)\n",
        "conv3 = Conv3D(32,kernel_size=(3,3,3),strides=1,name='layer3_2')(conv3)\n",
        "conv3 = BatchNormalization(name='layer3_3')(conv3)\n",
        "conv3 = Activation('relu',name='layer3_4')(conv3)\n",
        "conv3 = MaxPooling3D(pool_size=(2,2,2),strides=(2,2,2),name='layer3_5')(conv3)\n",
        "\n",
        "conv4 = Conv3D(64,kernel_size=(3,3,3),strides=1,activation='relu',name='layer4_1')(conv3)\n",
        "conv4 = Conv3D(64,kernel_size=(3,3,3),strides=1,name='layer4_2')(conv4)\n",
        "conv4 = BatchNormalization(name='layer4_3')(conv4)\n",
        "conv4 = Activation('relu',name='layer4_4')(conv4)\n",
        "conv4 = MaxPooling3D(pool_size=(2,2,2),strides=(2,2,2),name='layer4_5')(conv4)\n",
        "\n",
        "conv5 = Conv3D(128,kernel_size=(3,3,3),strides=1,activation='relu',name='layer5_1')(conv4)\n",
        "conv5 = Conv3D(128,kernel_size=(3,3,3),strides=1,name='layer5_2')(conv5)\n",
        "conv5 = BatchNormalization(name='layer5_3')(conv5)\n",
        "conv5 = Activation('relu',name='layer5_4')(conv5)\n",
        "conv5 = MaxPooling3D(pool_size=(2,2,2),strides=(2,2,2),name='layer5_5')(conv5)\n",
        "\n",
        "conv5 = Flatten(name='flatten')(conv5)\n",
        "dense = Dense(1,activation='relu',name='output')(conv5)\n",
        "model = Model(inputs,dense)\n",
        "model.summary()"
      ],
      "execution_count": 0,
      "outputs": [
        {
          "output_type": "stream",
          "text": [
            "_________________________________________________________________\n",
            "Layer (type)                 Output Shape              Param #   \n",
            "=================================================================\n",
            "input (InputLayer)           (None, 182, 218, 182, 1)  0         \n",
            "_________________________________________________________________\n",
            "layer1_1 (Conv3D)            (None, 180, 216, 180, 8)  224       \n",
            "_________________________________________________________________\n",
            "layer1_2 (Conv3D)            (None, 178, 214, 178, 8)  1736      \n",
            "_________________________________________________________________\n",
            "layer1_3 (BatchNormalization (None, 178, 214, 178, 8)  32        \n",
            "_________________________________________________________________\n",
            "layer1_4 (Activation)        (None, 178, 214, 178, 8)  0         \n",
            "_________________________________________________________________\n",
            "layer1_5 (MaxPooling3D)      (None, 89, 107, 89, 8)    0         \n",
            "_________________________________________________________________\n",
            "layer2_1 (Conv3D)            (None, 87, 105, 87, 16)   3472      \n",
            "_________________________________________________________________\n",
            "layer2_2 (Conv3D)            (None, 85, 103, 85, 16)   6928      \n",
            "_________________________________________________________________\n",
            "layer2_3 (BatchNormalization (None, 85, 103, 85, 16)   64        \n",
            "_________________________________________________________________\n",
            "layer2_4 (Activation)        (None, 85, 103, 85, 16)   0         \n",
            "_________________________________________________________________\n",
            "layer2_5 (MaxPooling3D)      (None, 42, 51, 42, 16)    0         \n",
            "_________________________________________________________________\n",
            "layer3_1 (Conv3D)            (None, 40, 49, 40, 32)    13856     \n",
            "_________________________________________________________________\n",
            "layer3_2 (Conv3D)            (None, 38, 47, 38, 32)    27680     \n",
            "_________________________________________________________________\n",
            "layer3_3 (BatchNormalization (None, 38, 47, 38, 32)    128       \n",
            "_________________________________________________________________\n",
            "layer3_4 (Activation)        (None, 38, 47, 38, 32)    0         \n",
            "_________________________________________________________________\n",
            "layer3_5 (MaxPooling3D)      (None, 19, 23, 19, 32)    0         \n",
            "_________________________________________________________________\n",
            "layer4_1 (Conv3D)            (None, 17, 21, 17, 64)    55360     \n",
            "_________________________________________________________________\n",
            "layer4_2 (Conv3D)            (None, 15, 19, 15, 64)    110656    \n",
            "_________________________________________________________________\n",
            "layer4_3 (BatchNormalization (None, 15, 19, 15, 64)    256       \n",
            "_________________________________________________________________\n",
            "layer4_4 (Activation)        (None, 15, 19, 15, 64)    0         \n",
            "_________________________________________________________________\n",
            "layer4_5 (MaxPooling3D)      (None, 7, 9, 7, 64)       0         \n",
            "_________________________________________________________________\n",
            "layer5_1 (Conv3D)            (None, 5, 7, 5, 128)      221312    \n",
            "_________________________________________________________________\n",
            "layer5_2 (Conv3D)            (None, 3, 5, 3, 128)      442496    \n",
            "_________________________________________________________________\n",
            "layer5_3 (BatchNormalization (None, 3, 5, 3, 128)      512       \n",
            "_________________________________________________________________\n",
            "layer5_4 (Activation)        (None, 3, 5, 3, 128)      0         \n",
            "_________________________________________________________________\n",
            "layer5_5 (MaxPooling3D)      (None, 1, 2, 1, 128)      0         \n",
            "_________________________________________________________________\n",
            "flatten (Flatten)            (None, 256)               0         \n",
            "_________________________________________________________________\n",
            "output (Dense)               (None, 1)                 257       \n",
            "=================================================================\n",
            "Total params: 884,969\n",
            "Trainable params: 884,473\n",
            "Non-trainable params: 496\n",
            "_________________________________________________________________\n"
          ],
          "name": "stdout"
        }
      ]
    },
    {
      "metadata": {
        "id": "Bf0llhXjU_Iy",
        "colab_type": "code",
        "colab": {
          "base_uri": "https://localhost:8080/",
          "height": 34
        },
        "outputId": "f7de814e-f023-48a0-8d17-1a155eb10854"
      },
      "cell_type": "code",
      "source": [
        "pred = model.predict(np.random.rand(1,182,218,182, 1).astype('float32'))\n",
        "pred"
      ],
      "execution_count": 0,
      "outputs": [
        {
          "output_type": "execute_result",
          "data": {
            "text/plain": [
              "array([[0.01547184]], dtype=float32)"
            ]
          },
          "metadata": {
            "tags": []
          },
          "execution_count": 8
        }
      ]
    },
    {
      "metadata": {
        "id": "5D6853psX7eZ",
        "colab_type": "code",
        "colab": {}
      },
      "cell_type": "code",
      "source": [
        ""
      ],
      "execution_count": 0,
      "outputs": []
    }
  ]
}